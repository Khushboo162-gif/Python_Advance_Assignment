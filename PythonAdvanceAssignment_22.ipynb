{
 "cells": [
  {
   "cell_type": "markdown",
   "id": "acb4172a",
   "metadata": {},
   "source": [
    "Q1.What are the benefits of the built-in array package, if any?\n",
    "\n",
    "Arrays represent multiple data items of the same type using a single name.\n",
    "\n",
    "In arrays, the elements can be accessed randomly by using the index number.\n",
    "\n",
    "Arrays allocate memory in contiguous memory locations for all its elements. Hence there is no chance of extra memory being allocated in case of arrays. This avoids memory overflow or shortage of memory in arrays.\n",
    "\n",
    "Q2.What are some of the array package's limitations?\n",
    "\n",
    "An array which is formed will be homogeneous. That is, in an integer array only integer values can be stored, while in a float array only floating value and character array can have only characters. Thus, no array can have values of two data types.\n",
    "\n",
    "While declaring an array, passing size of an array is compulsory, and the size must be a constant. Thus, there is either shortage or wastage of memory.\n",
    "\n",
    "Shifting is required for insertion or deletion of elements in an array.\n",
    "\n",
    "Q3.Describe the main differences between the array and numpy packages.\n",
    "\n",
    "The array package doesn't provide any help with numerical calculation with the items insdie it in number form while NumPy give you a wide variety of numerical operations. An array is a single dimensional entity which hold the numerical data, while numpy can have more than 1 dimension.In case of array, item can be accessed by its index position and it is easy task while in numpy item is accessed by its column and row index, which makes it slightly time taking. Same goes with appending operation.In case of array we do not form a tabular structure, while in numpy it forms a tabular structure.\n",
    "\n",
    "Q4.Explain the distinctions between the empty, ones, and zeros functions.\n",
    "\n",
    "empty - Return a new array of given shape and type, without initializing entries.\n",
    "\n",
    "ones - Return a new array of given shape and type, filled with ones.\n",
    "\n",
    "zeroes - Return a new array of given shape and type, filled with zeros.\n",
    "\n",
    "Q5.In the fromfunction function, which is used to construct new arrays, what is the role of the callable argument?\n",
    "\n",
    "Its function is to execute the function over each coordinate and the resulting array. The function is called with N parameters, where N is the rank of shape. Each parameter represents the coordinates of the array varying along a specific axis.\n",
    "\n",
    "Q6.What happens when a numpy array is combined with a single-value operand (a scalar, such as an int or a floating-point value) through addition, as in the expression A + n?\n",
    "\n",
    "It will be added with every element of the array\n",
    "\n",
    "Q7.Can array-to-scalar operations use combined operation-assign operators (such as += or *=)? What is the outcome?\n",
    "\n",
    "It will do the operation as per operators. Like if we use + operand it will update the current array by adding and when we use '*', it will update by multiplying.\n",
    "\n",
    "Q8.Does a numpy array contain fixed-length strings? What happens if you allocate a longer string to one of these arrays?"
   ]
  },
  {
   "cell_type": "code",
   "execution_count": 1,
   "id": "6367071f",
   "metadata": {},
   "outputs": [
    {
     "data": {
      "text/plain": [
       "array(['ram', 'mohan', 'shiva'], dtype='<U5')"
      ]
     },
     "execution_count": 1,
     "metadata": {},
     "output_type": "execute_result"
    }
   ],
   "source": [
    "# Yes it is possible that we can include a string of fixed length in numpy array. The dtype of any numpy array \n",
    "#       containing string values is the maximum length of any string present in the array.\n",
    "#       Once set, it will only be able to store new string having length not more than the maximum length at the time \n",
    "#       of the creation. If we try to reassign some another string value having length greater than the maximum length\n",
    "#       of the existing elements, it simply discards all the values beyond the maximum length accept upto those values \n",
    "#       which are under the limit.\n",
    "import numpy as np\n",
    "name = np.array(['ram', 'mohan', 'shiva'])\n",
    "name"
   ]
  },
  {
   "cell_type": "code",
   "execution_count": 2,
   "id": "62c3f1a9",
   "metadata": {},
   "outputs": [
    {
     "name": "stdout",
     "output_type": "stream",
     "text": [
      "['under' 'mohan' 'shiva']\n"
     ]
    }
   ],
   "source": [
    "name[name=='ram']='undertaker'\n",
    "print(name)"
   ]
  },
  {
   "cell_type": "markdown",
   "id": "6cb71310",
   "metadata": {},
   "source": [
    "Q9.What happens when you combine two numpy arrays using an operation like addition (+) or multiplication (*)? What are the conditions for combining two numpy arrays?\n",
    "\n",
    "It will perform element wise operation, condition is no. of column of the first array should be equal to no. of row of the second array.\n",
    "\n",
    "Q10.What is the best way to use a Boolean array to mask another array?\n",
    "\n"
   ]
  },
  {
   "cell_type": "code",
   "execution_count": 3,
   "id": "5248b53c",
   "metadata": {},
   "outputs": [
    {
     "name": "stdout",
     "output_type": "stream",
     "text": [
      "[True, True, masked, masked]\n",
      "1\n"
     ]
    }
   ],
   "source": [
    "y = np.array([True,True,False,True])          \n",
    "x = np.array([1,2,3,4])         \n",
    "m = np.ma.masked_where(x>2,y)  \n",
    "print(list(m))\n",
    "print(m.ndim)"
   ]
  },
  {
   "cell_type": "markdown",
   "id": "08e9e093",
   "metadata": {},
   "source": [
    "Q11.What are three different ways to get the standard deviation of a wide collection of data using both standard Python and its packages? Sort the three of them by how quickly they execute."
   ]
  },
  {
   "cell_type": "code",
   "execution_count": 4,
   "id": "01b43775",
   "metadata": {},
   "outputs": [
    {
     "data": {
      "text/plain": [
       "0.5"
      ]
     },
     "execution_count": 4,
     "metadata": {},
     "output_type": "execute_result"
    }
   ],
   "source": [
    "# 1)Using math module :\n",
    "x=[1,2]\n",
    "import math\n",
    "avg=(x[0]+x[1])/2\n",
    "N=len(x)\n",
    "SD=math.sqrt(((1-avg)**2+(2-avg)**2)/N)\n",
    "SD"
   ]
  },
  {
   "cell_type": "code",
   "execution_count": 5,
   "id": "0c27a509",
   "metadata": {},
   "outputs": [
    {
     "data": {
      "text/plain": [
       "0.5"
      ]
     },
     "execution_count": 5,
     "metadata": {},
     "output_type": "execute_result"
    }
   ],
   "source": [
    "#2)Using Numpy Array package\n",
    "import numpy as np\n",
    "SD=np.std(x)\n",
    "SD"
   ]
  },
  {
   "cell_type": "code",
   "execution_count": 6,
   "id": "d5b7709d",
   "metadata": {},
   "outputs": [
    {
     "data": {
      "text/plain": [
       "0.5"
      ]
     },
     "execution_count": 6,
     "metadata": {},
     "output_type": "execute_result"
    }
   ],
   "source": [
    "#3) General calculation without using any package\n",
    "SD= (((1-avg)**2+(2-avg)**2)/N)**0.5\n",
    "SD"
   ]
  },
  {
   "cell_type": "markdown",
   "id": "a37b5b4b",
   "metadata": {},
   "source": [
    "Q12. What is the dimensionality of a Boolean mask-generated array?"
   ]
  },
  {
   "cell_type": "markdown",
   "id": "00f2f81c",
   "metadata": {},
   "source": [
    "It will have same dimensionality as input array."
   ]
  }
 ],
 "metadata": {
  "kernelspec": {
   "display_name": "Python 3",
   "language": "python",
   "name": "python3"
  },
  "language_info": {
   "codemirror_mode": {
    "name": "ipython",
    "version": 3
   },
   "file_extension": ".py",
   "mimetype": "text/x-python",
   "name": "python",
   "nbconvert_exporter": "python",
   "pygments_lexer": "ipython3",
   "version": "3.8.8"
  }
 },
 "nbformat": 4,
 "nbformat_minor": 5
}
