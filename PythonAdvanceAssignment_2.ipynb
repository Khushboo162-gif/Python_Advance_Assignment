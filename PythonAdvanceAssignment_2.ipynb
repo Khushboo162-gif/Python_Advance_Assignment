{
 "cells": [
  {
   "cell_type": "markdown",
   "id": "66889e68",
   "metadata": {},
   "source": [
    "1. What is the relationship between classes and modules?"
   ]
  },
  {
   "cell_type": "code",
   "execution_count": null,
   "id": "3f4fd8f4",
   "metadata": {},
   "outputs": [],
   "source": [
    "modules contain classes."
   ]
  },
  {
   "cell_type": "markdown",
   "id": "d236e464",
   "metadata": {},
   "source": [
    "2. How do you make instances and classes?"
   ]
  },
  {
   "cell_type": "code",
   "execution_count": 1,
   "id": "9b19c87d",
   "metadata": {},
   "outputs": [],
   "source": [
    "#creating classes\n",
    "class test:\n",
    "    def test(self):\n",
    "        print('xyz')"
   ]
  },
  {
   "cell_type": "code",
   "execution_count": 2,
   "id": "d9b33d2e",
   "metadata": {},
   "outputs": [
    {
     "name": "stdout",
     "output_type": "stream",
     "text": [
      "xyz\n"
     ]
    }
   ],
   "source": [
    "#creating instances\n",
    "obj = test()\n",
    "obj.test()"
   ]
  },
  {
   "cell_type": "markdown",
   "id": "3b057103",
   "metadata": {},
   "source": [
    "3. Whare and how should be classes attributes created?"
   ]
  },
  {
   "cell_type": "code",
   "execution_count": 4,
   "id": "111d5368",
   "metadata": {},
   "outputs": [
    {
     "name": "stdout",
     "output_type": "stream",
     "text": [
      "10\n",
      "20\n"
     ]
    }
   ],
   "source": [
    "class test1:\n",
    "    a = 10\n",
    "    b = 20\n",
    "print(test1.a)\n",
    "print(test1.b)"
   ]
  },
  {
   "cell_type": "markdown",
   "id": "e7e8772c",
   "metadata": {},
   "source": [
    "4. Where and how are instances attributes created?"
   ]
  },
  {
   "cell_type": "code",
   "execution_count": 7,
   "id": "d6aa1937",
   "metadata": {},
   "outputs": [
    {
     "name": "stdout",
     "output_type": "stream",
     "text": [
      "100\n",
      "200\n"
     ]
    }
   ],
   "source": [
    "class test2:\n",
    "    def __init__(self,a,b):\n",
    "        self.a = a\n",
    "        self.b = b\n",
    "obj1 = test2(100,200)\n",
    "print(obj1.a)\n",
    "print(obj1.b)"
   ]
  },
  {
   "cell_type": "markdown",
   "id": "7a966924",
   "metadata": {},
   "source": [
    "5. What does the term \"self\" in a Python class mean?"
   ]
  },
  {
   "cell_type": "markdown",
   "id": "bf7f41bf",
   "metadata": {},
   "source": [
    "'self' is used to represent an instance(object) of the given class."
   ]
  },
  {
   "cell_type": "markdown",
   "id": "e46d811b",
   "metadata": {},
   "source": [
    "6. How does a Python class handle operator overloading?"
   ]
  },
  {
   "cell_type": "markdown",
   "id": "edfbde90",
   "metadata": {},
   "source": [
    "To handle operator overloading Python provides some special function or magic function."
   ]
  },
  {
   "cell_type": "code",
   "execution_count": 8,
   "id": "6e062fd2",
   "metadata": {},
   "outputs": [],
   "source": [
    "class test3:\n",
    "    def __init__(self,a):\n",
    "        self.a = a\n",
    "    def __add__(self,b):\n",
    "        return self.a+b.a\n",
    "        "
   ]
  },
  {
   "cell_type": "code",
   "execution_count": 9,
   "id": "68198440",
   "metadata": {},
   "outputs": [
    {
     "name": "stdout",
     "output_type": "stream",
     "text": [
      "30\n",
      "Goodnight\n"
     ]
    }
   ],
   "source": [
    "obj1 = test3(10)\n",
    "obj2 = test3(20)\n",
    "print(obj1+obj2)\n",
    "obj3 = test3('Good')\n",
    "obj4 = test3('night')\n",
    "print(obj3+obj4)"
   ]
  },
  {
   "cell_type": "markdown",
   "id": "e2207fcd",
   "metadata": {},
   "source": [
    "7. When do you consider allowing operator overloading of your classe?"
   ]
  },
  {
   "cell_type": "markdown",
   "id": "a72f26e5",
   "metadata": {},
   "source": [
    "We have two objects and if we want to add them we get error because compiler does not know how to add object. So we define a method for an operator."
   ]
  },
  {
   "cell_type": "markdown",
   "id": "32066a03",
   "metadata": {},
   "source": [
    "8.  What is the most popular form of operator overloading?"
   ]
  },
  {
   "cell_type": "markdown",
   "id": "588b4010",
   "metadata": {},
   "source": [
    "The + operator is the most popular operator overloading."
   ]
  },
  {
   "cell_type": "markdown",
   "id": "f33c42de",
   "metadata": {},
   "source": [
    "9. What are the two most important concepts of grasp in order to comprehend Python OOP code?"
   ]
  },
  {
   "cell_type": "markdown",
   "id": "5f2bb89f",
   "metadata": {},
   "source": [
    "class and object."
   ]
  }
 ],
 "metadata": {
  "kernelspec": {
   "display_name": "Python 3",
   "language": "python",
   "name": "python3"
  },
  "language_info": {
   "codemirror_mode": {
    "name": "ipython",
    "version": 3
   },
   "file_extension": ".py",
   "mimetype": "text/x-python",
   "name": "python",
   "nbconvert_exporter": "python",
   "pygments_lexer": "ipython3",
   "version": "3.8.8"
  }
 },
 "nbformat": 4,
 "nbformat_minor": 5
}
