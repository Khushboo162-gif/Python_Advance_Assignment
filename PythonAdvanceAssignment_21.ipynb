{
 "cells": [
  {
   "cell_type": "markdown",
   "id": "c6e36ec4",
   "metadata": {},
   "source": [
    "Q1.What is a probability distribution, exactly? If the values are meant to be random, how can you predict them at all?\n",
    "\n",
    "probability distribution is the mathematical function that gives the probabilities of occurrence of different possible outcomes for an experiment.\n",
    "\n",
    "Q2.Is there a distinction between true random numbers and pseudo-random numbers, if there is one? Why are the latter considered “good enough”?\n",
    "\n",
    "The difference between true random number(TRN) and pseudo-random number(PRN), is that TRN's are unpredictable physical values means (like atmospheric noise), and PRN are generated using mathematical algorithms (completely computer-generated).The PRN's are good enough as they follow a uniform distribution and the seed for generating PRN is unpredictable and unknown.\n",
    "\n",
    "Q3.What are the two main factors that influence the behaviour of a \"normal\" probability distribution?\n",
    "\n",
    "mean and standard deviation\n",
    "\n",
    "Q4.Provide a real-life example of a normal distribution.\n",
    "\n",
    "Age distribution\n",
    "\n",
    "Q5.In the short term, how can you expect a probability distribution to behave? What do you think will happen as the number of trials grows?\n",
    "\n",
    "When trails are less, the variance will large. As the number of trials increase , the variance will reduce.\n",
    "\n",
    "Q6.What kind of object can be shuffled by using random.shuffle?\n",
    "\n",
    "sequence(list)"
   ]
  },
  {
   "cell_type": "markdown",
   "id": "d01d7297",
   "metadata": {},
   "source": [
    "Q7.Describe the math package's general categories of functions.\n"
   ]
  },
  {
   "cell_type": "markdown",
   "id": "e5dad240",
   "metadata": {},
   "source": [
    " The general categories of math package are\n",
    " \n",
    "      1) Trigonometric functions\n",
    "      \n",
    "      2)Quadratic functions\n",
    "      \n",
    "      3)Exponential functions\n",
    "      \n",
    "      4)Hyperbolic functions\n",
    "      \n",
    "      5)Periodic functions\n",
    "      \n",
    "      6)Arithmetic functions\n",
    "      \n",
    "      7)Logarithimic functions\n",
    "      \n",
    "      8)Conversions to Integer\n",
    "      "
   ]
  },
  {
   "cell_type": "markdown",
   "id": "7b7bed43",
   "metadata": {},
   "source": [
    "Q8.What is the relationship between exponentiation and logarithms?"
   ]
  },
  {
   "cell_type": "markdown",
   "id": "27b0b332",
   "metadata": {},
   "source": [
    "Logarithmic function is the inverse of the exponential function"
   ]
  },
  {
   "cell_type": "markdown",
   "id": "524ed1a8",
   "metadata": {},
   "source": [
    "Q9.What are the three logarithmic functions that Python supports?\n",
    "\n",
    " 1)log2(x) - logarithmic value of x to base 2\n",
    "    \n",
    " 2)log10(x) - logarithmic value of x to base 10\n",
    "\n",
    " 3)log(x,base) - logarithmic value of x to base. If only first parameter is given , it computes its\n",
    " value tp base e,natural logarithm\n",
    "\n",
    " 4)log1p(x) - natural logarithm (base e) value of 1+x\n",
    "    "
   ]
  }
 ],
 "metadata": {
  "kernelspec": {
   "display_name": "Python 3",
   "language": "python",
   "name": "python3"
  },
  "language_info": {
   "codemirror_mode": {
    "name": "ipython",
    "version": 3
   },
   "file_extension": ".py",
   "mimetype": "text/x-python",
   "name": "python",
   "nbconvert_exporter": "python",
   "pygments_lexer": "ipython3",
   "version": "3.8.8"
  }
 },
 "nbformat": 4,
 "nbformat_minor": 5
}
