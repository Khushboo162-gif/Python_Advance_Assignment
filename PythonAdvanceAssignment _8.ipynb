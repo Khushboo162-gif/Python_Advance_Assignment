{
 "cells": [
  {
   "cell_type": "markdown",
   "id": "83fad8c1",
   "metadata": {},
   "source": [
    "1. What are the two latest user-defined exception constraints in Python 3.X?"
   ]
  },
  {
   "cell_type": "markdown",
   "id": "694bc000",
   "metadata": {},
   "source": [
    "raise statement and assert statement"
   ]
  },
  {
   "cell_type": "markdown",
   "id": "1c105313",
   "metadata": {},
   "source": [
    "2. How are class-based exceptions that have been raised matched to handlers?"
   ]
  },
  {
   "cell_type": "markdown",
   "id": "b3eee632",
   "metadata": {},
   "source": [
    "The exeption that can be handled by the class mentioned in the exception or by 'Exception'(superclass)"
   ]
  },
  {
   "cell_type": "markdown",
   "id": "d1bb20ad",
   "metadata": {},
   "source": [
    "3. Descibe two methods or attaching context information to exception artefacts."
   ]
  },
  {
   "cell_type": "markdown",
   "id": "a85daf31",
   "metadata": {},
   "source": [
    "It can be done by using logging.exception(e) or by raise keyword."
   ]
  },
  {
   "cell_type": "code",
   "execution_count": 1,
   "id": "21371d4b",
   "metadata": {},
   "outputs": [
    {
     "name": "stderr",
     "output_type": "stream",
     "text": [
      "ERROR:root:division by zero\n",
      "Traceback (most recent call last):\n",
      "  File \"<ipython-input-1-a946ec185393>\", line 4, in <module>\n",
      "    5/0\n",
      "ZeroDivisionError: division by zero\n"
     ]
    },
    {
     "ename": "ZeroDivisionError",
     "evalue": "division by zero",
     "output_type": "error",
     "traceback": [
      "\u001b[1;31m---------------------------------------------------------------------------\u001b[0m",
      "\u001b[1;31mZeroDivisionError\u001b[0m                         Traceback (most recent call last)",
      "\u001b[1;32m<ipython-input-1-a946ec185393>\u001b[0m in \u001b[0;36m<module>\u001b[1;34m\u001b[0m\n\u001b[0;32m      2\u001b[0m \u001b[1;33m\u001b[0m\u001b[0m\n\u001b[0;32m      3\u001b[0m \u001b[1;32mtry\u001b[0m\u001b[1;33m:\u001b[0m\u001b[1;33m\u001b[0m\u001b[1;33m\u001b[0m\u001b[0m\n\u001b[1;32m----> 4\u001b[1;33m     \u001b[1;36m5\u001b[0m\u001b[1;33m/\u001b[0m\u001b[1;36m0\u001b[0m\u001b[1;33m\u001b[0m\u001b[1;33m\u001b[0m\u001b[0m\n\u001b[0m\u001b[0;32m      5\u001b[0m \u001b[1;32mexcept\u001b[0m \u001b[0mException\u001b[0m \u001b[1;32mas\u001b[0m \u001b[0me\u001b[0m\u001b[1;33m:\u001b[0m\u001b[1;33m\u001b[0m\u001b[1;33m\u001b[0m\u001b[0m\n\u001b[0;32m      6\u001b[0m     \u001b[0mlogging\u001b[0m\u001b[1;33m.\u001b[0m\u001b[0mexception\u001b[0m\u001b[1;33m(\u001b[0m\u001b[0me\u001b[0m\u001b[1;33m)\u001b[0m\u001b[1;33m\u001b[0m\u001b[1;33m\u001b[0m\u001b[0m\n",
      "\u001b[1;31mZeroDivisionError\u001b[0m: division by zero"
     ]
    }
   ],
   "source": [
    "import logging\n",
    "\n",
    "try: \n",
    "    5/0\n",
    "except Exception as e:\n",
    "    logging.exception(e)\n",
    "    raise"
   ]
  },
  {
   "cell_type": "markdown",
   "id": "e047cf88",
   "metadata": {},
   "source": [
    "4. Describe two methods for specifying the text of an excetion object's error message."
   ]
  },
  {
   "cell_type": "code",
   "execution_count": 2,
   "id": "861018fa",
   "metadata": {},
   "outputs": [
    {
     "name": "stdout",
     "output_type": "stream",
     "text": [
      "Enter num1: 5\n",
      "enter num2: 0\n",
      "float division by zero\n"
     ]
    }
   ],
   "source": [
    "try:\n",
    "    a = float(input('Enter num1: '))\n",
    "    b = float(input('enter num2: '))\n",
    "    print('Result:',a/b)\n",
    "except Exception as e:\n",
    "    print(e)"
   ]
  },
  {
   "cell_type": "code",
   "execution_count": 4,
   "id": "c0ddb1f7",
   "metadata": {},
   "outputs": [
    {
     "name": "stdout",
     "output_type": "stream",
     "text": [
      "Enter num1: 5\n",
      "enter num2: 0\n",
      "float division by zero\n"
     ]
    }
   ],
   "source": [
    "try:\n",
    "    a = float(input('Enter num1: '))\n",
    "    b = float(input('enter num2: '))\n",
    "    print('Result:',a/b)\n",
    "except ZeroDivisionError as e:\n",
    "    print(e)"
   ]
  },
  {
   "cell_type": "markdown",
   "id": "2d057642",
   "metadata": {},
   "source": [
    "5. Why do you no longer use string-based exception?"
   ]
  },
  {
   "cell_type": "markdown",
   "id": "b54c5feb",
   "metadata": {},
   "source": [
    "In Python versions 1.5 and earlier, Exceptions were strings and not classes. Now all exceptions are classes, derived from the superclass BaseException. With classes it is more efficiently handled as classes have many useful features."
   ]
  }
 ],
 "metadata": {
  "kernelspec": {
   "display_name": "Python 3",
   "language": "python",
   "name": "python3"
  },
  "language_info": {
   "codemirror_mode": {
    "name": "ipython",
    "version": 3
   },
   "file_extension": ".py",
   "mimetype": "text/x-python",
   "name": "python",
   "nbconvert_exporter": "python",
   "pygments_lexer": "ipython3",
   "version": "3.8.8"
  }
 },
 "nbformat": 4,
 "nbformat_minor": 5
}
