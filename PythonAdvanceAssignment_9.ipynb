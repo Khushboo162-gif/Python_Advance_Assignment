{
 "cells": [
  {
   "cell_type": "markdown",
   "id": "e7b1c06f",
   "metadata": {},
   "source": [
    "1. In Python 3.X, what are the names and functions of string object types?"
   ]
  },
  {
   "cell_type": "markdown",
   "id": "5ce2c8f5",
   "metadata": {},
   "source": [
    "In Python 3.X and later, String objects has built in class named as \"str\" and it is used to store characters in memory in encoded format."
   ]
  },
  {
   "cell_type": "markdown",
   "id": "d03e7a27",
   "metadata": {},
   "source": [
    "2. How do the string forms in Python 3.X vary in terms of operations?"
   ]
  },
  {
   "cell_type": "markdown",
   "id": "b87e2d1a",
   "metadata": {},
   "source": [
    "Python supports ASCII as a subset of Unicode. The default encoding of characters in Python is UTF-8(Unicode Transformation Format-8-bit). ASCII is really a 7-bit character set; it is mapped to 8-bit bytes by setting the high bit to zero. Thus, ASCII characters are unchanged in UTF-8. A non-zero high bit indicates that a character composed of multiple bytes."
   ]
  },
  {
   "cell_type": "markdown",
   "id": "6272efcf",
   "metadata": {},
   "source": [
    "3. In 3.X, how do you put non-ASCII Unicode characters in a string?"
   ]
  },
  {
   "cell_type": "markdown",
   "id": "a56a80f5",
   "metadata": {},
   "source": [
    "As we know, there are only 127 ASCII characters in ascii table. It stores symbols, letters, whitespce characters, non printable characters, which are very less. So Python 3 has adopted unicode encoding of strings for non ASCII you can get any value more than 127."
   ]
  },
  {
   "cell_type": "code",
   "execution_count": 2,
   "id": "953e78bf",
   "metadata": {},
   "outputs": [
    {
     "name": "stdout",
     "output_type": "stream",
     "text": [
      "khushbooµ\n"
     ]
    }
   ],
   "source": [
    "a = 'khushboo'\n",
    "a = a+chr(181)+chr(128)\n",
    "print(a)"
   ]
  },
  {
   "cell_type": "markdown",
   "id": "d4345634",
   "metadata": {},
   "source": [
    "4. In Python 3.X, what are the key differences between text-mode and binary-mode files?"
   ]
  },
  {
   "cell_type": "markdown",
   "id": "afaeef1e",
   "metadata": {},
   "source": [
    "In text mode a file is interpreted as a sequence of characters while in binary mode data is interpreted as raw binary values usually bytes."
   ]
  },
  {
   "cell_type": "markdown",
   "id": "000bcd2c",
   "metadata": {},
   "source": [
    "5. How can you interpret a Unicode text file containing text encoded in a different encoding than your platform's default?"
   ]
  },
  {
   "cell_type": "markdown",
   "id": "ced9a9b5",
   "metadata": {},
   "source": [
    "While reading file, we can specify the encoding, so the file will be decoded according to that encoding and results are returned to the user."
   ]
  },
  {
   "cell_type": "code",
   "execution_count": 5,
   "id": "60d32214",
   "metadata": {},
   "outputs": [
    {
     "name": "stdout",
     "output_type": "stream",
     "text": [
      "ਮੇਰਾ ਨਾਮ ਖੁਸ਼ਬੂ ਹੈ\n"
     ]
    }
   ],
   "source": [
    "text = 'ਮੇਰਾ ਨਾਮ ਖੁਸ਼ਬੂ ਹੈ'\n",
    "with open('sample.txt','w', encoding = 'utf16') as f:\n",
    "    f.write(text)\n",
    "with open('sample.txt','r', encoding = 'utf16') as f:\n",
    "    print(f.read())"
   ]
  },
  {
   "cell_type": "markdown",
   "id": "1f30bec5",
   "metadata": {},
   "source": [
    "6. What is the best way to make a Unicode text file in a particular encoding format?"
   ]
  },
  {
   "cell_type": "markdown",
   "id": "6cd3c8be",
   "metadata": {},
   "source": [
    "specify the encoding during reading and writing the file."
   ]
  },
  {
   "cell_type": "code",
   "execution_count": 6,
   "id": "36de4346",
   "metadata": {},
   "outputs": [
    {
     "name": "stdout",
     "output_type": "stream",
     "text": [
      "ਮੇਰਾ ਨਾਮ ਖੁਸ਼ਬੂ ਹੈ\n"
     ]
    }
   ],
   "source": [
    "text = 'ਮੇਰਾ ਨਾਮ ਖੁਸ਼ਬੂ ਹੈ'\n",
    "with open('test1.txt','w',encoding = 'utf16') as f:\n",
    "    f.write(text)\n",
    "with open('test1.txt','r',encoding = 'utf16') as f:\n",
    "    print(f.read())"
   ]
  },
  {
   "cell_type": "markdown",
   "id": "bb441a38",
   "metadata": {},
   "source": [
    "7. What qualifies ASCII text as a form of Unicode text?"
   ]
  },
  {
   "cell_type": "markdown",
   "id": "a332903e",
   "metadata": {},
   "source": [
    "The first 128 Unicode code points represent the equivalent ASCII characters. They have the same meaning in both ASCII and Unicode. Since UTF-8 encodes each of these characters with a single byte, any ASCII text is also a UTF-8 text. Unicode  is a superset of ASCII."
   ]
  },
  {
   "cell_type": "markdown",
   "id": "d236dbbd",
   "metadata": {},
   "source": [
    "8. How much of an effect does the change in string types in Python 3.X have on your code?"
   ]
  },
  {
   "cell_type": "markdown",
   "id": "ecd44e6d",
   "metadata": {},
   "source": [
    "In Python 3.X and later, there is only one string type that is unicode. So no effect on the code."
   ]
  }
 ],
 "metadata": {
  "kernelspec": {
   "display_name": "Python 3",
   "language": "python",
   "name": "python3"
  },
  "language_info": {
   "codemirror_mode": {
    "name": "ipython",
    "version": 3
   },
   "file_extension": ".py",
   "mimetype": "text/x-python",
   "name": "python",
   "nbconvert_exporter": "python",
   "pygments_lexer": "ipython3",
   "version": "3.8.8"
  }
 },
 "nbformat": 4,
 "nbformat_minor": 5
}
