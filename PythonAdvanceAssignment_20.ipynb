{
 "cells": [
  {
   "cell_type": "markdown",
   "id": "7682d4ce",
   "metadata": {},
   "source": [
    "1.Compare and contrast the float and Decimal classes' benefits and drawbacks.\n",
    "\n",
    "float is faster than decimel\n",
    "\n",
    "decimel is more precise than float\n",
    "\n",
    "2.Decimal('1.200') and Decimal('1.2') are two objects to consider. In what sense are these the same object? Are these just two ways of representing the exact same value, or do they correspond to different internal states?\n",
    "\n",
    "Though they are identical value wise, internal representation or internal state of these two values are different, as they have decimal values of different precisions."
   ]
  },
  {
   "cell_type": "code",
   "execution_count": 1,
   "id": "8f718637",
   "metadata": {},
   "outputs": [
    {
     "name": "stdout",
     "output_type": "stream",
     "text": [
      "1.200\n",
      "1.2\n"
     ]
    }
   ],
   "source": [
    "from decimal import Decimal\n",
    "print(Decimal('1.200'))\n",
    "print(Decimal('1.2'))"
   ]
  },
  {
   "cell_type": "markdown",
   "id": "567d10a1",
   "metadata": {},
   "source": [
    "3.What happens if the equality of Decimal('1.200') and Decimal('1.2') is checked?"
   ]
  },
  {
   "cell_type": "code",
   "execution_count": 2,
   "id": "9523a289",
   "metadata": {},
   "outputs": [
    {
     "data": {
      "text/plain": [
       "True"
      ]
     },
     "execution_count": 2,
     "metadata": {},
     "output_type": "execute_result"
    }
   ],
   "source": [
    "Decimal('1.200')==Decimal('1.2')"
   ]
  },
  {
   "cell_type": "markdown",
   "id": "0fb9f32a",
   "metadata": {},
   "source": [
    "4.Why is it preferable to start a Decimal object with a string rather than a floating-point value?\n",
    "\n",
    "decimals should be initialized using strings to prevent precision issues\n",
    "\n",
    "5.In an arithmetic phrase, how simple is it to combine Decimal objects with integers?"
   ]
  },
  {
   "cell_type": "code",
   "execution_count": 4,
   "id": "85dd6b15",
   "metadata": {},
   "outputs": [
    {
     "name": "stdout",
     "output_type": "stream",
     "text": [
      "6.200\n"
     ]
    }
   ],
   "source": [
    "print(Decimal('1.200')+5)"
   ]
  },
  {
   "cell_type": "markdown",
   "id": "7dced967",
   "metadata": {},
   "source": [
    "6.Can Decimal objects and floating-point values be combined easily?\n",
    "\n",
    "No"
   ]
  },
  {
   "cell_type": "code",
   "execution_count": 5,
   "id": "3cdb0dcd",
   "metadata": {},
   "outputs": [
    {
     "ename": "TypeError",
     "evalue": "unsupported operand type(s) for +: 'decimal.Decimal' and 'float'",
     "output_type": "error",
     "traceback": [
      "\u001b[1;31m---------------------------------------------------------------------------\u001b[0m",
      "\u001b[1;31mTypeError\u001b[0m                                 Traceback (most recent call last)",
      "\u001b[1;32m<ipython-input-5-47e1cff0b063>\u001b[0m in \u001b[0;36m<module>\u001b[1;34m\u001b[0m\n\u001b[1;32m----> 1\u001b[1;33m \u001b[0mDecimal\u001b[0m\u001b[1;33m(\u001b[0m\u001b[1;34m'1.200'\u001b[0m\u001b[1;33m)\u001b[0m\u001b[1;33m+\u001b[0m\u001b[1;36m0.55\u001b[0m\u001b[1;33m\u001b[0m\u001b[1;33m\u001b[0m\u001b[0m\n\u001b[0m",
      "\u001b[1;31mTypeError\u001b[0m: unsupported operand type(s) for +: 'decimal.Decimal' and 'float'"
     ]
    }
   ],
   "source": [
    "Decimal('1.200')+0.55"
   ]
  },
  {
   "cell_type": "markdown",
   "id": "c5ef6018",
   "metadata": {},
   "source": [
    "7.Using the Fraction class but not the Decimal class, give an example of a quantity that can be expressed with absolute precision."
   ]
  },
  {
   "cell_type": "code",
   "execution_count": 6,
   "id": "5548bda3",
   "metadata": {},
   "outputs": [
    {
     "name": "stdout",
     "output_type": "stream",
     "text": [
      "1/2\n"
     ]
    }
   ],
   "source": [
    "from fractions import Fraction\n",
    "\n",
    "print(Fraction(0.5))"
   ]
  },
  {
   "cell_type": "markdown",
   "id": "28a91fc9",
   "metadata": {},
   "source": [
    "8.Describe a quantity that can be accurately expressed by the Decimal or Fraction classes but not by a floating-point value."
   ]
  },
  {
   "cell_type": "code",
   "execution_count": 7,
   "id": "7c296e96",
   "metadata": {},
   "outputs": [
    {
     "name": "stdout",
     "output_type": "stream",
     "text": [
      "0.01\n",
      "1/100\n",
      "0.010000000000000002\n"
     ]
    }
   ],
   "source": [
    "print(Decimal('0.1')*Decimal('0.1'))\n",
    "print(Fraction('1/10')*Fraction('1/10'))\n",
    "print(0.1*0.1)"
   ]
  },
  {
   "cell_type": "markdown",
   "id": "d210b81c",
   "metadata": {},
   "source": [
    "Q9.Consider the following two fraction objects: Fraction(1, 2) and Fraction(1, 2). (5, 10). Is the internal state of these two objects the same? Why do you think that is?\n",
    "\n",
    "The internal state of both are same as Fraction(5,10) is reduced to simplest form. Hence 1/2 is printed in both the cases."
   ]
  },
  {
   "cell_type": "code",
   "execution_count": 8,
   "id": "d27d35a3",
   "metadata": {},
   "outputs": [
    {
     "name": "stdout",
     "output_type": "stream",
     "text": [
      "1/2\n"
     ]
    }
   ],
   "source": [
    "print(Fraction(1, 2))"
   ]
  },
  {
   "cell_type": "code",
   "execution_count": 9,
   "id": "6e99505e",
   "metadata": {},
   "outputs": [
    {
     "name": "stdout",
     "output_type": "stream",
     "text": [
      "1/2\n"
     ]
    }
   ],
   "source": [
    "print(Fraction(5, 10))"
   ]
  },
  {
   "cell_type": "markdown",
   "id": "8ab69194",
   "metadata": {},
   "source": [
    "Q10.How do the Fraction class and the integer type (int) relate to each other? Containment or inheritance?\n",
    "\n",
    "Fraction class and integer type(int) are related in form of a container. It contains two ints, one the numerator and the other the denominator."
   ]
  }
 ],
 "metadata": {
  "kernelspec": {
   "display_name": "Python 3",
   "language": "python",
   "name": "python3"
  },
  "language_info": {
   "codemirror_mode": {
    "name": "ipython",
    "version": 3
   },
   "file_extension": ".py",
   "mimetype": "text/x-python",
   "name": "python",
   "nbconvert_exporter": "python",
   "pygments_lexer": "ipython3",
   "version": "3.8.8"
  }
 },
 "nbformat": 4,
 "nbformat_minor": 5
}
