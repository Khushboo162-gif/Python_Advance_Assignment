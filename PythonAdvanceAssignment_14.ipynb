{
 "cells": [
  {
   "cell_type": "markdown",
   "id": "55241781",
   "metadata": {},
   "source": [
    "Ques1. Is an assignment operaror like += only for show? Is it possible that it would lead to faster results at the runtime?"
   ]
  },
  {
   "cell_type": "markdown",
   "id": "fda92990",
   "metadata": {},
   "source": [
    "+= is faster and easy to write, runtime of a+=2 is less than a=a+2."
   ]
  },
  {
   "cell_type": "markdown",
   "id": "ef6eed1a",
   "metadata": {},
   "source": [
    "Ques2. What is the smallest number of statements you'd have to write in most programming languages to replace the Python expression a, b = a+b, a?"
   ]
  },
  {
   "cell_type": "markdown",
   "id": "23da6e04",
   "metadata": {},
   "source": [
    "Two"
   ]
  },
  {
   "cell_type": "markdown",
   "id": "b5db32c2",
   "metadata": {},
   "source": [
    "Ques3. In Python, what is the most effective way to set a list of 100 integers to 0?"
   ]
  },
  {
   "cell_type": "code",
   "execution_count": 1,
   "id": "2479ba81",
   "metadata": {},
   "outputs": [
    {
     "name": "stdout",
     "output_type": "stream",
     "text": [
      "[0, 0, 0, 0, 0, 0, 0, 0, 0, 0, 0, 0, 0, 0, 0, 0, 0, 0, 0, 0, 0, 0, 0, 0, 0, 0, 0, 0, 0, 0, 0, 0, 0, 0, 0, 0, 0, 0, 0, 0, 0, 0, 0, 0, 0, 0, 0, 0, 0, 0, 0, 0, 0, 0, 0, 0, 0, 0, 0, 0, 0, 0, 0, 0, 0, 0, 0, 0, 0, 0, 0, 0, 0, 0, 0, 0, 0, 0, 0, 0, 0, 0, 0, 0, 0, 0, 0, 0, 0, 0, 0, 0, 0, 0, 0, 0, 0, 0, 0, 0]\n"
     ]
    }
   ],
   "source": [
    "l=[0]*100\n",
    "print(l)"
   ]
  },
  {
   "cell_type": "code",
   "execution_count": null,
   "id": "250a4de4",
   "metadata": {},
   "outputs": [],
   "source": [
    "for i in range(100)"
   ]
  },
  {
   "cell_type": "markdown",
   "id": "4ce86cdf",
   "metadata": {},
   "source": [
    "Ques4. What is the most effective way to intialise a list of 99 integers that replaces the sequences 1, 2, 3? S If necessary, show step-by-step instructions on how to accomplish this."
   ]
  },
  {
   "cell_type": "code",
   "execution_count": 5,
   "id": "3d25b521",
   "metadata": {},
   "outputs": [
    {
     "name": "stdout",
     "output_type": "stream",
     "text": [
      "[1, 2, 3, 1, 2, 3, 1, 2, 3, 1, 2, 3, 1, 2, 3, 1, 2, 3, 1, 2, 3, 1, 2, 3, 1, 2, 3, 1, 2, 3, 1, 2, 3, 1, 2, 3, 1, 2, 3, 1, 2, 3, 1, 2, 3, 1, 2, 3, 1, 2, 3, 1, 2, 3, 1, 2, 3, 1, 2, 3, 1, 2, 3, 1, 2, 3, 1, 2, 3, 1, 2, 3, 1, 2, 3, 1, 2, 3, 1, 2, 3, 1, 2, 3, 1, 2, 3, 1, 2, 3, 1, 2, 3, 1, 2, 3, 1, 2, 3]\n"
     ]
    }
   ],
   "source": [
    "print([1,2,3]*33)"
   ]
  },
  {
   "cell_type": "markdown",
   "id": "bb29fea9",
   "metadata": {},
   "source": [
    "Ques5. If you're using IDLE to run a Python application, explain how to print a multidimensional list as efficiently?"
   ]
  },
  {
   "cell_type": "markdown",
   "id": "d13f2fa2",
   "metadata": {},
   "source": [
    "We can print just by calling its name"
   ]
  },
  {
   "cell_type": "code",
   "execution_count": 6,
   "id": "4eccdada",
   "metadata": {},
   "outputs": [
    {
     "data": {
      "text/plain": [
       "[[1, 2, 3, 4], ['A', 'B'], [5, 6, 7, 8]]"
      ]
     },
     "execution_count": 6,
     "metadata": {},
     "output_type": "execute_result"
    }
   ],
   "source": [
    "l = [[1,2,3,4],['A','B'],[5,6,7,8]]\n",
    "l"
   ]
  },
  {
   "cell_type": "markdown",
   "id": "b2a97899",
   "metadata": {},
   "source": [
    "Ques6. Is it possible to use list comprehension with a string? If so, how can you go about doing it?"
   ]
  },
  {
   "cell_type": "code",
   "execution_count": 7,
   "id": "642d9630",
   "metadata": {},
   "outputs": [
    {
     "data": {
      "text/plain": [
       "['i', 'n', 'e', 'u', 'r', 'o', 'n']"
      ]
     },
     "execution_count": 7,
     "metadata": {},
     "output_type": "execute_result"
    }
   ],
   "source": [
    "[i for i in 'ineuron']"
   ]
  },
  {
   "cell_type": "markdown",
   "id": "e7dda988",
   "metadata": {},
   "source": [
    "Ques7. From the command line, how do you get support with a user-written Python programme? Is this possible from inside IDLE?"
   ]
  },
  {
   "cell_type": "markdown",
   "id": "7c8af04f",
   "metadata": {},
   "source": [
    "Steps for command line:\n",
    "\n",
    "1. Open command prompt.\n",
    "2. Go to the directory containing python program file(.py)\n",
    "3. Type \"python file_name.py\", press enter to run the file.\n",
    "\n",
    "Steps for python IDLE:\n",
    "\n",
    "1. Open python IDLE.\n",
    "2. Click on file>open>file_name.py\n",
    "3. Press F5 key to run the program."
   ]
  },
  {
   "cell_type": "markdown",
   "id": "e2b3a6b4",
   "metadata": {},
   "source": [
    "Ques8. Funstions are said to be \"first-class objects\" in Python but not in ost other languages, such as C++ or Java. What ca you do in Python with a function(callable object) that you can't do in C or C++?"
   ]
  },
  {
   "cell_type": "markdown",
   "id": "eb3e5e19",
   "metadata": {},
   "source": [
    "In Python, functions are like any other object, such as an int or a list. That means that you can use functions as arguments to other functions, store functions as dictionary values, or return a function from another function. This leads to many powerful ways to use functions."
   ]
  },
  {
   "cell_type": "markdown",
   "id": "485eb89c",
   "metadata": {},
   "source": [
    "Ques9. How do you distinguish between a wrapper, a wrapped feature, and a decorator?"
   ]
  },
  {
   "cell_type": "markdown",
   "id": "e267912f",
   "metadata": {},
   "source": [
    "A wrapper, a wrapped feature, and a decorator are all same. They can be thought of as functions which modify the functionality of another function. They help to make your code shorter and more \"Pythonic\"."
   ]
  },
  {
   "cell_type": "markdown",
   "id": "a25eef29",
   "metadata": {},
   "source": [
    "Ques10. If a function is a generator function, what does it return?"
   ]
  },
  {
   "cell_type": "markdown",
   "id": "4233dfbe",
   "metadata": {},
   "source": [
    "It will return generator object"
   ]
  },
  {
   "cell_type": "code",
   "execution_count": 8,
   "id": "39e23b28",
   "metadata": {},
   "outputs": [
    {
     "data": {
      "text/plain": [
       "<generator object test at 0x000001F2C62E96D0>"
      ]
     },
     "execution_count": 8,
     "metadata": {},
     "output_type": "execute_result"
    }
   ],
   "source": [
    "def test(n):\n",
    "    for i in range(n):\n",
    "        yield i\n",
    "test(6)"
   ]
  },
  {
   "cell_type": "markdown",
   "id": "93b6fcb0",
   "metadata": {},
   "source": [
    "Ques11. what is the improvement that must be made to a funxction in order for it to become a generator function in the Python language?"
   ]
  },
  {
   "cell_type": "markdown",
   "id": "2cf8d5c4",
   "metadata": {},
   "source": [
    "we have to use yield statement rather return"
   ]
  },
  {
   "cell_type": "markdown",
   "id": "65973a2e",
   "metadata": {},
   "source": [
    "Ques12. Identify at least one benefit of generators."
   ]
  },
  {
   "cell_type": "markdown",
   "id": "987028f8",
   "metadata": {},
   "source": [
    "Generator functions allow you to declare a function that behaves like an iterator."
   ]
  }
 ],
 "metadata": {
  "kernelspec": {
   "display_name": "Python 3",
   "language": "python",
   "name": "python3"
  },
  "language_info": {
   "codemirror_mode": {
    "name": "ipython",
    "version": 3
   },
   "file_extension": ".py",
   "mimetype": "text/x-python",
   "name": "python",
   "nbconvert_exporter": "python",
   "pygments_lexer": "ipython3",
   "version": "3.8.8"
  }
 },
 "nbformat": 4,
 "nbformat_minor": 5
}
