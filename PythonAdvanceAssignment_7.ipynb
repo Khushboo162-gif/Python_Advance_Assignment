{
 "cells": [
  {
   "cell_type": "markdown",
   "id": "d3154b9e",
   "metadata": {},
   "source": [
    "1. What is the purpose of the try statement?"
   ]
  },
  {
   "cell_type": "markdown",
   "id": "989cceaf",
   "metadata": {},
   "source": [
    "Any code that may raise exception we put that in try block."
   ]
  },
  {
   "cell_type": "markdown",
   "id": "49b84478",
   "metadata": {},
   "source": [
    "2. What are the two most popular try statement variations?"
   ]
  },
  {
   "cell_type": "markdown",
   "id": "e3968114",
   "metadata": {},
   "source": [
    "ImportError - If a python module can not be loaded or located\n",
    "\n",
    "KeyboardInterrupt - If a unrequired key is pressed by user"
   ]
  },
  {
   "cell_type": "markdown",
   "id": "1b3f75bc",
   "metadata": {},
   "source": [
    "3. What is the purpose of the raise statement?"
   ]
  },
  {
   "cell_type": "markdown",
   "id": "bb1c762c",
   "metadata": {},
   "source": [
    "raise statement raises an exception in code"
   ]
  },
  {
   "cell_type": "markdown",
   "id": "852f6e6b",
   "metadata": {},
   "source": [
    "4. What does the assert statement do, and what other statement is it like?"
   ]
  },
  {
   "cell_type": "markdown",
   "id": "2bfe24fa",
   "metadata": {},
   "source": [
    "assert statement gives AssertionEror if the condition given after assert is false"
   ]
  },
  {
   "cell_type": "markdown",
   "id": "6f434b4c",
   "metadata": {},
   "source": [
    "5. What is the purpose of the with/as argument, and other statement is it like?"
   ]
  },
  {
   "cell_type": "markdown",
   "id": "c1793df4",
   "metadata": {},
   "source": [
    "with/as argument are use to open a file and they themselves close the file after doing the given action"
   ]
  }
 ],
 "metadata": {
  "kernelspec": {
   "display_name": "Python 3",
   "language": "python",
   "name": "python3"
  },
  "language_info": {
   "codemirror_mode": {
    "name": "ipython",
    "version": 3
   },
   "file_extension": ".py",
   "mimetype": "text/x-python",
   "name": "python",
   "nbconvert_exporter": "python",
   "pygments_lexer": "ipython3",
   "version": "3.8.8"
  }
 },
 "nbformat": 4,
 "nbformat_minor": 5
}
