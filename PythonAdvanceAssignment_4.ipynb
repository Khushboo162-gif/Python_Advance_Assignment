{
 "cells": [
  {
   "cell_type": "markdown",
   "id": "95954acb",
   "metadata": {},
   "source": [
    "1. Which two operator overloading methods can you use in your classes to support iteration?"
   ]
  },
  {
   "cell_type": "markdown",
   "id": "a6441d81",
   "metadata": {},
   "source": [
    " 'iter' and 'next'"
   ]
  },
  {
   "cell_type": "markdown",
   "id": "a808e804",
   "metadata": {},
   "source": [
    "2. In what context do the two operator overloading methods manage printing?"
   ]
  },
  {
   "cell_type": "markdown",
   "id": "af3671dd",
   "metadata": {},
   "source": [
    "str and repr"
   ]
  },
  {
   "cell_type": "markdown",
   "id": "c8e23c99",
   "metadata": {},
   "source": [
    "3. In a class, how do you intercept slice operations?"
   ]
  },
  {
   "cell_type": "markdown",
   "id": "49708c8e",
   "metadata": {},
   "source": [
    "In a class use of slice() in getitem method is used for intercept slice operation."
   ]
  },
  {
   "cell_type": "markdown",
   "id": "bc387ceb",
   "metadata": {},
   "source": [
    "4. In a class, how do you capture in-place addition?"
   ]
  },
  {
   "cell_type": "markdown",
   "id": "cd56756f",
   "metadata": {},
   "source": [
    "a + b is a normal addition whereas a += b is inplace addition. In class add method is used for inplace addition."
   ]
  },
  {
   "cell_type": "markdown",
   "id": "c5c2f111",
   "metadata": {},
   "source": [
    "5. When it is  appropriate to use operator overloading?"
   ]
  },
  {
   "cell_type": "markdown",
   "id": "00e0cb9b",
   "metadata": {},
   "source": [
    "Only overload addition operators if you have a lot of demand for that functionality and doesn't have any side effect."
   ]
  }
 ],
 "metadata": {
  "kernelspec": {
   "display_name": "Python 3",
   "language": "python",
   "name": "python3"
  },
  "language_info": {
   "codemirror_mode": {
    "name": "ipython",
    "version": 3
   },
   "file_extension": ".py",
   "mimetype": "text/x-python",
   "name": "python",
   "nbconvert_exporter": "python",
   "pygments_lexer": "ipython3",
   "version": "3.8.8"
  }
 },
 "nbformat": 4,
 "nbformat_minor": 5
}
