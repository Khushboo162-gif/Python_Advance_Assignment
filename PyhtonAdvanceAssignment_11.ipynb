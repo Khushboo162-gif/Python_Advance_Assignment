{
 "cells": [
  {
   "cell_type": "markdown",
   "id": "7ceaa8d3",
   "metadata": {},
   "source": [
    "Ques1. What is the concept of a metaclass?"
   ]
  },
  {
   "cell_type": "markdown",
   "id": "4bd5bfb2",
   "metadata": {},
   "source": [
    "A meta class in Python is a class of a class that defines how a class behaves. A class is itself an instance of a metaclass. A class in Python defines how the instance of the class will behave."
   ]
  },
  {
   "cell_type": "markdown",
   "id": "54c9ebef",
   "metadata": {},
   "source": [
    "Ques2. What is the best way to declare a class's metaclass?"
   ]
  },
  {
   "cell_type": "code",
   "execution_count": 1,
   "id": "4353b15a",
   "metadata": {},
   "outputs": [
    {
     "data": {
      "text/plain": [
       "__main__.test"
      ]
     },
     "execution_count": 1,
     "metadata": {},
     "output_type": "execute_result"
    }
   ],
   "source": [
    "class test(type):\n",
    "    pass\n",
    "class test1(metaclass = test):\n",
    "    pass\n",
    "type(test1)"
   ]
  },
  {
   "cell_type": "markdown",
   "id": "1660c14b",
   "metadata": {},
   "source": [
    "Ques3. How do class decorators overlap with metaclasses for handling classes?"
   ]
  },
  {
   "cell_type": "markdown",
   "id": "10c5969d",
   "metadata": {},
   "source": [
    "Both decorators and metaclass have some common things. Whn we want to apply som common functionality to attributes of the class instances, both can be used. There are some problems which can be solved by decorators as well as by metaclass. But there are a few problems that can only be solved by metaclasses. Use of metaclass affects its children while th decorator affects only the current class."
   ]
  },
  {
   "cell_type": "markdown",
   "id": "768f62fe",
   "metadata": {},
   "source": [
    "Ques4. How do class decorator overlap with mataclasses for handling instances?"
   ]
  },
  {
   "cell_type": "markdown",
   "id": "ed540283",
   "metadata": {},
   "source": [
    "Both decorators and metaclass have some common things. Whn we want to apply som common functionality to attributes of the class instances, both can be used. There are some problems which can be solved by decorators as well as by metaclass. But there are a few problems that can only be solved by metaclasses. Use of metaclass affects its children while th decorator affects only the current class."
   ]
  }
 ],
 "metadata": {
  "kernelspec": {
   "display_name": "Python 3",
   "language": "python",
   "name": "python3"
  },
  "language_info": {
   "codemirror_mode": {
    "name": "ipython",
    "version": 3
   },
   "file_extension": ".py",
   "mimetype": "text/x-python",
   "name": "python",
   "nbconvert_exporter": "python",
   "pygments_lexer": "ipython3",
   "version": "3.8.8"
  }
 },
 "nbformat": 4,
 "nbformat_minor": 5
}
