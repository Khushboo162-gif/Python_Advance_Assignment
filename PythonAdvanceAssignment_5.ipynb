{
 "cells": [
  {
   "cell_type": "markdown",
   "id": "a934c561",
   "metadata": {},
   "source": [
    "1. What is the meaning of multiple inheritance?"
   ]
  },
  {
   "cell_type": "markdown",
   "id": "2012fda2",
   "metadata": {},
   "source": [
    "In multiple inheritance feature of base classes are inherited into derived class."
   ]
  },
  {
   "cell_type": "code",
   "execution_count": 3,
   "id": "b8d0334d",
   "metadata": {},
   "outputs": [],
   "source": [
    "#multiple inheritance\n",
    "class base1:\n",
    "    pass\n",
    "class base2:\n",
    "    pass\n",
    "class derived_class(base1,base2):\n",
    "    pass"
   ]
  },
  {
   "cell_type": "markdown",
   "id": "7ac194b7",
   "metadata": {},
   "source": [
    "2. What is the concept of delegation?"
   ]
  },
  {
   "cell_type": "markdown",
   "id": "b79891c0",
   "metadata": {},
   "source": [
    "The delegation is an object-oriented design pattern that allow objects composition to achieve the same code reuse as inheritance."
   ]
  },
  {
   "cell_type": "markdown",
   "id": "b0aea72b",
   "metadata": {},
   "source": [
    "3. What is the concept of composition?"
   ]
  },
  {
   "cell_type": "markdown",
   "id": "bf74eb76",
   "metadata": {},
   "source": [
    "In composition one of the classes is composed of one or more instance of another classes."
   ]
  },
  {
   "cell_type": "markdown",
   "id": "71c8f4ba",
   "metadata": {},
   "source": [
    "4. What are bound methods and how do we use them?"
   ]
  },
  {
   "cell_type": "markdown",
   "id": "259bb976",
   "metadata": {},
   "source": [
    "Method having self(not necessary it has to be this particular word) as first argument inside a class is called bound method. It can be used by creating a instance of that class."
   ]
  },
  {
   "cell_type": "code",
   "execution_count": 4,
   "id": "e6a23558",
   "metadata": {},
   "outputs": [
    {
     "name": "stdout",
     "output_type": "stream",
     "text": [
      "It has 4 wheel\n"
     ]
    }
   ],
   "source": [
    "class car:\n",
    "    def wheel(self):\n",
    "        print('It has 4 wheel')  #here wheel is bound method\n",
    "        \n",
    "car_obj = car()\n",
    "car_obj.wheel()"
   ]
  },
  {
   "cell_type": "markdown",
   "id": "4dd0361f",
   "metadata": {},
   "source": [
    "5. What is the purpose of pseudoprivate attributes?"
   ]
  },
  {
   "cell_type": "markdown",
   "id": "6755d74c",
   "metadata": {},
   "source": [
    "Python does not have a way to effectively restrict access to instance variables or methods. Python takes the view that we are all adult and should be allowed to use the coe as we see fit."
   ]
  },
  {
   "cell_type": "code",
   "execution_count": null,
   "id": "c0667e97",
   "metadata": {},
   "outputs": [],
   "source": []
  }
 ],
 "metadata": {
  "kernelspec": {
   "display_name": "Python 3",
   "language": "python",
   "name": "python3"
  },
  "language_info": {
   "codemirror_mode": {
    "name": "ipython",
    "version": 3
   },
   "file_extension": ".py",
   "mimetype": "text/x-python",
   "name": "python",
   "nbconvert_exporter": "python",
   "pygments_lexer": "ipython3",
   "version": "3.8.8"
  }
 },
 "nbformat": 4,
 "nbformat_minor": 5
}
