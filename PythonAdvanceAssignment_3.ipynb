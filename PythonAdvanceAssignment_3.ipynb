{
 "cells": [
  {
   "cell_type": "markdown",
   "id": "50d68558",
   "metadata": {},
   "source": [
    "1. What is the concept of an abstraction superclass?"
   ]
  },
  {
   "cell_type": "code",
   "execution_count": 1,
   "id": "46bc06e9",
   "metadata": {},
   "outputs": [
    {
     "name": "stdout",
     "output_type": "stream",
     "text": [
      "start\n",
      "stop\n",
      "drive\n"
     ]
    }
   ],
   "source": [
    "from abc import abstractmethod\n",
    "\n",
    "class abstractvehicle:\n",
    "    @abstractmethod\n",
    "    def start():\n",
    "        '''start'''\n",
    "    @abstractmethod\n",
    "    def stop():\n",
    "        '''stop'''\n",
    "    @abstractmethod\n",
    "    def drive():\n",
    "        '''drive'''\n",
    "        \n",
    "class car(abstractvehicle):\n",
    "    def start(self):\n",
    "        print('start')\n",
    "    def stop(self):\n",
    "        print('stop')\n",
    "    def drive(self):\n",
    "        print('drive')\n",
    "        \n",
    "car_obj = car()\n",
    "car_obj.start()\n",
    "car_obj.stop()\n",
    "car_obj.drive()\n",
    "        "
   ]
  },
  {
   "cell_type": "markdown",
   "id": "649a8ad6",
   "metadata": {},
   "source": [
    "i.Abstract superclass be used as a blueprint.\n",
    "\n",
    "ii. Object can not be created from abstract superclass.\n",
    "\n",
    "iii. In anstract superclass we only define a method without implementation.\n",
    "\n",
    "iv. We can have a one or more subclasses that inherited from a abstract superclass."
   ]
  },
  {
   "cell_type": "markdown",
   "id": "7e70e790",
   "metadata": {},
   "source": [
    "2. What happens when a class statement's top level contains a basic assignment statement?"
   ]
  },
  {
   "cell_type": "markdown",
   "id": "7dd1dec3",
   "metadata": {},
   "source": [
    "Then it will be a class atrribute."
   ]
  },
  {
   "cell_type": "markdown",
   "id": "dd72ac88",
   "metadata": {},
   "source": [
    "3. Why does a class need to manually call a superclass's __init__ method?"
   ]
  },
  {
   "cell_type": "markdown",
   "id": "ba76c173",
   "metadata": {},
   "source": [
    "So that we can access the attribute of superclass(parent class) in child class."
   ]
  },
  {
   "cell_type": "markdown",
   "id": "1a2eca78",
   "metadata": {},
   "source": [
    "4. How can you augment, instead of completely replacing, an inherited method?"
   ]
  },
  {
   "cell_type": "markdown",
   "id": "0a8eb991",
   "metadata": {},
   "source": [
    "The good way to do in Python is by calling to the original version directly with augmented arguments."
   ]
  },
  {
   "cell_type": "markdown",
   "id": "f09268e0",
   "metadata": {},
   "source": [
    "5. How is the local scope of a class different from that of a function?"
   ]
  },
  {
   "cell_type": "markdown",
   "id": "530db68f",
   "metadata": {},
   "source": [
    "In class if a variable is declared inside a function then it is only accessible inside that function like local variable. If a variable is declared inside constructor like self.variable_name = value then it can be accessed in every function. If a variable is declared inside a class(not inside any function) then it can be accessed by class name."
   ]
  }
 ],
 "metadata": {
  "kernelspec": {
   "display_name": "Python 3",
   "language": "python",
   "name": "python3"
  },
  "language_info": {
   "codemirror_mode": {
    "name": "ipython",
    "version": 3
   },
   "file_extension": ".py",
   "mimetype": "text/x-python",
   "name": "python",
   "nbconvert_exporter": "python",
   "pygments_lexer": "ipython3",
   "version": "3.8.8"
  }
 },
 "nbformat": 4,
 "nbformat_minor": 5
}
