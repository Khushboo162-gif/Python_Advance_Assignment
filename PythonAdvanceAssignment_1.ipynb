{
 "cells": [
  {
   "cell_type": "markdown",
   "id": "8fa149dc",
   "metadata": {},
   "source": [
    "Q1. What is the purpose of Python's OOP?"
   ]
  },
  {
   "cell_type": "markdown",
   "id": "e0e79eb2",
   "metadata": {},
   "source": [
    "Ans1. The code can be used multiple times just by creating objects."
   ]
  },
  {
   "cell_type": "markdown",
   "id": "19330316",
   "metadata": {},
   "source": [
    "Q2. Where does an inheritance search look for an attribute?"
   ]
  },
  {
   "cell_type": "markdown",
   "id": "67ec88e6",
   "metadata": {},
   "source": [
    "Ans2. The instance search happens in bottom up fashion.It starts from object.sttribute ans search all the way upto the parent class to find the first occurence of the attribute."
   ]
  },
  {
   "cell_type": "markdown",
   "id": "9659f136",
   "metadata": {},
   "source": [
    "Q3. How do you distinguish between a class object and an instance object?"
   ]
  },
  {
   "cell_type": "code",
   "execution_count": 1,
   "id": "ab969bad",
   "metadata": {},
   "outputs": [],
   "source": [
    "class test:\n",
    "    a = 10\n",
    "    def __init__(self,b):\n",
    "        self.b = b"
   ]
  },
  {
   "cell_type": "code",
   "execution_count": 5,
   "id": "5c796b5e",
   "metadata": {},
   "outputs": [
    {
     "data": {
      "text/plain": [
       "10"
      ]
     },
     "execution_count": 5,
     "metadata": {},
     "output_type": "execute_result"
    }
   ],
   "source": [
    "#class object\n",
    "test.a"
   ]
  },
  {
   "cell_type": "code",
   "execution_count": 6,
   "id": "112d9600",
   "metadata": {},
   "outputs": [
    {
     "data": {
      "text/plain": [
       "20"
      ]
     },
     "execution_count": 6,
     "metadata": {},
     "output_type": "execute_result"
    }
   ],
   "source": [
    "#instance object\n",
    "obj = test(20)\n",
    "obj.b"
   ]
  },
  {
   "cell_type": "markdown",
   "id": "ecbf538d",
   "metadata": {},
   "source": [
    "Q4. What makes the first argument in a class's method function special?"
   ]
  },
  {
   "cell_type": "markdown",
   "id": "f382c63f",
   "metadata": {},
   "source": [
    "Ans4. a pointer(self)"
   ]
  },
  {
   "cell_type": "markdown",
   "id": "ac9dad58",
   "metadata": {},
   "source": [
    "Q5. What is the purpose of the __init__ method?"
   ]
  },
  {
   "cell_type": "markdown",
   "id": "6d7fd1cd",
   "metadata": {},
   "source": [
    "Ans5. init represent constructor in python, it initializes the state of the object."
   ]
  },
  {
   "cell_type": "markdown",
   "id": "e27324fa",
   "metadata": {},
   "source": [
    "Q6. What is the purpose for creating a class instance?"
   ]
  },
  {
   "cell_type": "markdown",
   "id": "dc41bd6a",
   "metadata": {},
   "source": [
    "Ans6. name_of_instance = class_name(arguments)"
   ]
  },
  {
   "cell_type": "markdown",
   "id": "19cbe82b",
   "metadata": {},
   "source": [
    "Q7. What is the purpose for creating a class?"
   ]
  },
  {
   "cell_type": "code",
   "execution_count": 8,
   "id": "0ddb64ea",
   "metadata": {},
   "outputs": [],
   "source": [
    "class myclass:\n",
    "    def __init__(self,a):\n",
    "        self.a = a\n",
    "    def test(self):\n",
    "        print(self.a)"
   ]
  },
  {
   "cell_type": "markdown",
   "id": "4792a62b",
   "metadata": {},
   "source": [
    "Q8. How would you define the superclasses of a class?"
   ]
  },
  {
   "cell_type": "code",
   "execution_count": 15,
   "id": "8dd131dc",
   "metadata": {},
   "outputs": [
    {
     "name": "stdout",
     "output_type": "stream",
     "text": [
      "myclass1\n",
      "myclass2\n",
      "myclass3\n"
     ]
    }
   ],
   "source": [
    "class myclass1:\n",
    "    def __init__(self):\n",
    "        print(\"myclass1\")\n",
    "class myclass2(myclass1):\n",
    "    def __init__(self):\n",
    "        super().__init__()\n",
    "        print(\"myclass2\")\n",
    "class myclass3(myclass2):\n",
    "    def __init__(self):\n",
    "        super().__init__()\n",
    "        print('myclass3')\n",
    "        \n",
    "obj = myclass3()"
   ]
  }
 ],
 "metadata": {
  "kernelspec": {
   "display_name": "Python 3",
   "language": "python",
   "name": "python3"
  },
  "language_info": {
   "codemirror_mode": {
    "name": "ipython",
    "version": 3
   },
   "file_extension": ".py",
   "mimetype": "text/x-python",
   "name": "python",
   "nbconvert_exporter": "python",
   "pygments_lexer": "ipython3",
   "version": "3.8.8"
  }
 },
 "nbformat": 4,
 "nbformat_minor": 5
}
