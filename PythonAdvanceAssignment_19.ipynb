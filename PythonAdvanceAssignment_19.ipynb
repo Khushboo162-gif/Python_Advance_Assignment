{
 "cells": [
  {
   "cell_type": "markdown",
   "id": "c3aab702",
   "metadata": {},
   "source": [
    "Q1.Define the relationship between a class and its instances. Is it a one-to-one or a one-to-many partnership, for example?\n",
    "\n",
    "Instances have the same property of classes. It is a one-to-many partnership.\n",
    "\n",
    "Q2.What kind of data is held only in an instance?\n",
    "\n",
    "It stores data for variables\n",
    "\n",
    "Q3.What kind of knowledge is stored in a class?\n",
    "\n",
    "Logic to perform any action is stored in a class\n",
    "\n",
    "Q4.What exactly is a method, and how is it different from a regular function?\n",
    "\n",
    "A method is a function that “belongs to” an object.\n",
    "\n",
    "Function — a set of instructions that perform a task. Method — a set of instructions that are associated with an object."
   ]
  },
  {
   "cell_type": "markdown",
   "id": "b11a1a80",
   "metadata": {},
   "source": [
    "Q5.Is inheritance supported in Python, and if so, what is the syntax?\n",
    "\n",
    "Yes inheritence is supported in python."
   ]
  },
  {
   "cell_type": "code",
   "execution_count": 1,
   "id": "57c37466",
   "metadata": {},
   "outputs": [],
   "source": [
    "class A:\n",
    "    pass\n",
    "class B(A): #inheritence\n",
    "    pass"
   ]
  },
  {
   "cell_type": "markdown",
   "id": "228d73b0",
   "metadata": {},
   "source": [
    "Q6.How much encapsulation (making instance or class variables private) does Python support?\n",
    "\n",
    "Python does not have the private keyword, unlike some other object oriented languages, but encapsulation can be done. Instead, it relies on the convention: a class variable that should not directly be accessed should be prefixed with an underscore.\n",
    "\n",
    "Q7.How do you distinguish between a class variable and an instance variable?\n",
    "\n",
    "class variable - Class variables can be accessed by calling with the class name\n",
    "\n",
    "Instance variable - Instance variables can be accessed directly by calling the variable name inside the class.\n",
    "\n",
    "Q8.When, if ever, can self be included in a class's method definitions?\n",
    "\n",
    "self is included in every method of a class and it is the first argument of the method,\n",
    "\n",
    "Q9.What is the difference between the _ add and the radd _ methods?\n",
    "\n",
    "_ radd is only called if the left object does not have an add _ method, or that method does not know how to add the two objects"
   ]
  },
  {
   "cell_type": "code",
   "execution_count": 2,
   "id": "a3dfa4a8",
   "metadata": {},
   "outputs": [
    {
     "ename": "TypeError",
     "evalue": "unsupported operand type(s) for +: 'X' and 'Y'",
     "output_type": "error",
     "traceback": [
      "\u001b[1;31m---------------------------------------------------------------------------\u001b[0m",
      "\u001b[1;31mTypeError\u001b[0m                                 Traceback (most recent call last)",
      "\u001b[1;32m<ipython-input-2-3225286d7b05>\u001b[0m in \u001b[0;36m<module>\u001b[1;34m\u001b[0m\n\u001b[0;32m     12\u001b[0m \u001b[0mx\u001b[0m \u001b[1;33m=\u001b[0m \u001b[0mX\u001b[0m\u001b[1;33m(\u001b[0m\u001b[1;36m2\u001b[0m\u001b[1;33m)\u001b[0m\u001b[1;33m\u001b[0m\u001b[1;33m\u001b[0m\u001b[0m\n\u001b[0;32m     13\u001b[0m \u001b[0my\u001b[0m \u001b[1;33m=\u001b[0m \u001b[0mY\u001b[0m\u001b[1;33m(\u001b[0m\u001b[1;36m3\u001b[0m\u001b[1;33m)\u001b[0m\u001b[1;33m\u001b[0m\u001b[1;33m\u001b[0m\u001b[0m\n\u001b[1;32m---> 14\u001b[1;33m \u001b[0mprint\u001b[0m\u001b[1;33m(\u001b[0m\u001b[0mx\u001b[0m\u001b[1;33m+\u001b[0m\u001b[0my\u001b[0m\u001b[1;33m)\u001b[0m\u001b[1;33m\u001b[0m\u001b[1;33m\u001b[0m\u001b[0m\n\u001b[0m",
      "\u001b[1;31mTypeError\u001b[0m: unsupported operand type(s) for +: 'X' and 'Y'"
     ]
    }
   ],
   "source": [
    "class X:\n",
    "  def __init__(self, num):\n",
    "    self.num = num\n",
    "    \n",
    "class Y:\n",
    "  def __init__(self, num):\n",
    "    self.num = num\n",
    "\n",
    "  def __add__(self, other_obj):\n",
    "    return self.num+other_obj.num\n",
    "\n",
    "x = X(2)\n",
    "y = Y(3)\n",
    "print(x+y)"
   ]
  },
  {
   "cell_type": "code",
   "execution_count": 3,
   "id": "ecd8d576",
   "metadata": {},
   "outputs": [
    {
     "name": "stdout",
     "output_type": "stream",
     "text": [
      "5\n"
     ]
    }
   ],
   "source": [
    "class X:\n",
    "  def __init__(self, num):\n",
    "    self.num = num\n",
    "    \n",
    "class Y:\n",
    "  def __init__(self, num):\n",
    "    self.num = num\n",
    "\n",
    "  def __radd__(self, other_obj):\n",
    "    return self.num+other_obj.num\n",
    "\n",
    "x = X(2)\n",
    "y = Y(3)\n",
    "print(x+y)"
   ]
  },
  {
   "cell_type": "markdown",
   "id": "68328113",
   "metadata": {},
   "source": [
    "Q10.When is it necessary to use a reflection method? When do you not need it, even though you support the operation in question?\n",
    "\n",
    "Reflection refers to the ability for code to be able to examine attributes about objects that might be passed as parameters to a function. For example, if we write type(obj) then Python will return an object which represents the type of obj.\n",
    "\n",
    "Q11.What is the _ iadd _ method called?\n",
    "\n",
    "For overriding _ iadd _ method is called like x+=y operation\n",
    "\n",
    "Q12.Is the _ init _ method inherited by subclasses? What do you do if you need to customize its behavior within a subclass?\n",
    "\n",
    "yes _ init _ method is inherited by subclass"
   ]
  },
  {
   "cell_type": "code",
   "execution_count": 4,
   "id": "910ad1de",
   "metadata": {},
   "outputs": [],
   "source": [
    "class A:\n",
    "    def __init__(self,a):\n",
    "        self.a=a\n",
    "class B(A):\n",
    "    def __init__(self,b):\n",
    "        super(B,self).__init__(b)"
   ]
  },
  {
   "cell_type": "code",
   "execution_count": 5,
   "id": "c21f694c",
   "metadata": {},
   "outputs": [
    {
     "data": {
      "text/plain": [
       "10"
      ]
     },
     "execution_count": 5,
     "metadata": {},
     "output_type": "execute_result"
    }
   ],
   "source": [
    "o1=A(4)\n",
    "o2=B(10)\n",
    "o2.a"
   ]
  }
 ],
 "metadata": {
  "kernelspec": {
   "display_name": "Python 3",
   "language": "python",
   "name": "python3"
  },
  "language_info": {
   "codemirror_mode": {
    "name": "ipython",
    "version": 3
   },
   "file_extension": ".py",
   "mimetype": "text/x-python",
   "name": "python",
   "nbconvert_exporter": "python",
   "pygments_lexer": "ipython3",
   "version": "3.8.8"
  }
 },
 "nbformat": 4,
 "nbformat_minor": 5
}
