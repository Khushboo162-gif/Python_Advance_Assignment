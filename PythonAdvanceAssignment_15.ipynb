{
 "cells": [
  {
   "cell_type": "markdown",
   "id": "5be8be92",
   "metadata": {},
   "source": [
    "Ques1. What are the new features added in Python 3.8 version?"
   ]
  },
  {
   "cell_type": "markdown",
   "id": "68f489d3",
   "metadata": {},
   "source": [
    "Positional-only parameters(/)\n",
    "\n",
    "Assignment Expressions(:=)\n",
    "\n",
    "f-strings now support “=”\n",
    "\n",
    "reversed() works with a dictionary\n",
    "\n",
    "No parentheses for return and yield statements\n",
    "\n",
    "pow() function\n",
    "\n",
    "Syntax Warning\n",
    "\n",
    "Dictionary comprehension\n",
    "\n",
    "‘csv’ module\n",
    "\n",
    "importlib_metadata"
   ]
  },
  {
   "cell_type": "markdown",
   "id": "0322e17b",
   "metadata": {},
   "source": [
    "Ques2. What is monkey patching in Python?"
   ]
  },
  {
   "cell_type": "markdown",
   "id": "73faa200",
   "metadata": {},
   "source": [
    "In Python, the term monkey patch refers to dynamic (or run-time) modifications of a class or module. In Python, we can actually change the behavior of code at run-time."
   ]
  },
  {
   "cell_type": "code",
   "execution_count": 13,
   "id": "e9189bb8",
   "metadata": {},
   "outputs": [],
   "source": [
    "#monk.py\n",
    "\n",
    "class A:\n",
    "    def funcA(self):\n",
    "        print('funcA is called')"
   ]
  },
  {
   "cell_type": "code",
   "execution_count": null,
   "id": "b1489711",
   "metadata": {},
   "outputs": [],
   "source": [
    "import monk\n",
    "def monkey_f(self):\n",
    "\tprint (\"monkey_f() is being called\")\n",
    "\n",
    "# replacing address of \"func\" with \"monkey_f\"\n",
    "monk.A.func = monkey_f\n",
    "obj = monk.A()\n",
    "\n",
    "# calling function \"func\" whose address got replaced\n",
    "# with function \"monkey_f()\"\n",
    "obj.func()"
   ]
  },
  {
   "cell_type": "markdown",
   "id": "a5a7e75b",
   "metadata": {},
   "source": [
    "Ques3. What is the difference between a shallow copy and deep copy?"
   ]
  },
  {
   "cell_type": "code",
   "execution_count": 17,
   "id": "3e8bc81f",
   "metadata": {},
   "outputs": [],
   "source": [
    "import copy\n",
    "li=[[5,10],[15,20]]\n",
    "li1=copy.copy(li)     #shallow copy\n",
    "li2=copy.deepcopy(li) #deep copy"
   ]
  },
  {
   "cell_type": "code",
   "execution_count": 18,
   "id": "d78ff32c",
   "metadata": {},
   "outputs": [],
   "source": [
    "li[0][0] = 30"
   ]
  },
  {
   "cell_type": "code",
   "execution_count": 19,
   "id": "7a220097",
   "metadata": {},
   "outputs": [
    {
     "data": {
      "text/plain": [
       "[[30, 10], [15, 20]]"
      ]
     },
     "execution_count": 19,
     "metadata": {},
     "output_type": "execute_result"
    }
   ],
   "source": [
    "li1"
   ]
  },
  {
   "cell_type": "code",
   "execution_count": 20,
   "id": "25388413",
   "metadata": {},
   "outputs": [
    {
     "data": {
      "text/plain": [
       "[[5, 10], [15, 20]]"
      ]
     },
     "execution_count": 20,
     "metadata": {},
     "output_type": "execute_result"
    }
   ],
   "source": [
    "li2"
   ]
  },
  {
   "cell_type": "markdown",
   "id": "400878ad",
   "metadata": {},
   "source": [
    "Ques4. What is the maximum possible length of an identifier?"
   ]
  },
  {
   "cell_type": "markdown",
   "id": "3e9a34f5",
   "metadata": {},
   "source": [
    "79"
   ]
  },
  {
   "cell_type": "markdown",
   "id": "f3a166e3",
   "metadata": {},
   "source": [
    "Ques5. What is generator comprehension?"
   ]
  },
  {
   "cell_type": "code",
   "execution_count": 21,
   "id": "aa21ac97",
   "metadata": {},
   "outputs": [],
   "source": [
    "gen=(i for i in range(10) if i%2==0)"
   ]
  },
  {
   "cell_type": "code",
   "execution_count": 22,
   "id": "35519c2d",
   "metadata": {},
   "outputs": [
    {
     "data": {
      "text/plain": [
       "<generator object <genexpr> at 0x000002044FAF6890>"
      ]
     },
     "execution_count": 22,
     "metadata": {},
     "output_type": "execute_result"
    }
   ],
   "source": [
    "gen"
   ]
  },
  {
   "cell_type": "code",
   "execution_count": 23,
   "id": "ec2ffcdd",
   "metadata": {},
   "outputs": [
    {
     "data": {
      "text/plain": [
       "0"
      ]
     },
     "execution_count": 23,
     "metadata": {},
     "output_type": "execute_result"
    }
   ],
   "source": [
    "next(gen)"
   ]
  },
  {
   "cell_type": "code",
   "execution_count": 24,
   "id": "e4cc9b81",
   "metadata": {},
   "outputs": [
    {
     "data": {
      "text/plain": [
       "2"
      ]
     },
     "execution_count": 24,
     "metadata": {},
     "output_type": "execute_result"
    }
   ],
   "source": [
    "next(gen)"
   ]
  },
  {
   "cell_type": "code",
   "execution_count": 25,
   "id": "4bc4ac21",
   "metadata": {},
   "outputs": [
    {
     "data": {
      "text/plain": [
       "4"
      ]
     },
     "execution_count": 25,
     "metadata": {},
     "output_type": "execute_result"
    }
   ],
   "source": [
    "next(gen)"
   ]
  }
 ],
 "metadata": {
  "kernelspec": {
   "display_name": "Python 3",
   "language": "python",
   "name": "python3"
  },
  "language_info": {
   "codemirror_mode": {
    "name": "ipython",
    "version": 3
   },
   "file_extension": ".py",
   "mimetype": "text/x-python",
   "name": "python",
   "nbconvert_exporter": "python",
   "pygments_lexer": "ipython3",
   "version": "3.8.8"
  }
 },
 "nbformat": 4,
 "nbformat_minor": 5
}
