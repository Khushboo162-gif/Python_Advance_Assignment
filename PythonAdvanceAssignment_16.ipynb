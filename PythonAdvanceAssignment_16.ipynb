{
 "cells": [
  {
   "cell_type": "markdown",
   "id": "8741376a",
   "metadata": {},
   "source": [
    "Ques1. What is the benefit of regular expressions?"
   ]
  },
  {
   "cell_type": "markdown",
   "id": "cb81e643",
   "metadata": {},
   "source": [
    "A regular expression is a special sequence of characters that helps you match or find other strings or sets of strings"
   ]
  },
  {
   "cell_type": "markdown",
   "id": "c66c7d6e",
   "metadata": {},
   "source": [
    "Ques2. Describe the difference between the effects of \"(ab)c+\" and \"a(bc)+\". Which of these, if any, is the unqualified pattern \"abc+\"?"
   ]
  },
  {
   "cell_type": "markdown",
   "id": "0106a0b7",
   "metadata": {},
   "source": [
    "\"(ab)c+\" : it will search one occurence of ab and one or more occurence of c\n",
    "\n",
    "\"a(bc)+\" : it will search one occurence of a and one or more occurence of bc\n",
    "\n",
    "\"a(bc)+\" is the unqualified pattern of \"abc+\""
   ]
  },
  {
   "cell_type": "markdown",
   "id": "b2b38efd",
   "metadata": {},
   "source": [
    "Ques3. How much do you need to use the following sentence while using regular expressions?\n",
    "\n",
    "import re"
   ]
  },
  {
   "cell_type": "markdown",
   "id": "22ef783a",
   "metadata": {},
   "source": [
    "one time"
   ]
  },
  {
   "cell_type": "markdown",
   "id": "492f0840",
   "metadata": {},
   "source": [
    "Ques4. Which characters have special segnificance in square brackets when expressing a range, and under what circumstances?"
   ]
  },
  {
   "cell_type": "markdown",
   "id": "4fd8d078",
   "metadata": {},
   "source": [
    "\\ (backslash) : general escape character, is usd when you use character class metacharacters as literals inside a character class only.\n",
    "\n",
    "^ (circumflex anchor) : negate the class, if this is the first character in the brackets(If ^ is not the first, it is not a metacharacter.)\n",
    "\n",
    "hyphen-A hyphen '-' indicates a character range inside a character class."
   ]
  },
  {
   "cell_type": "markdown",
   "id": "bf719565",
   "metadata": {},
   "source": [
    "Ques5. How does compiling a regular-expression object benefit you?"
   ]
  },
  {
   "cell_type": "markdown",
   "id": "05fc027c",
   "metadata": {},
   "source": [
    "We can combine a regular expression pattern into pattern objects, which can be used for pattern matching. It also helps to search a pattern again without rewriting it."
   ]
  },
  {
   "cell_type": "markdown",
   "id": "c53d36ad",
   "metadata": {},
   "source": [
    "Ques6. What are some examples of how to use the match object returned by re. match and re.search?"
   ]
  },
  {
   "cell_type": "markdown",
   "id": "40fb1c25",
   "metadata": {},
   "source": [
    "re.search() searches for the whole string even if the string contains multi-lines and tries to find a match of the substring in all the lines of string\n",
    "\n",
    "re.match() searches only from the beginning of the string and return match object if found. But if a match of substring is found somewhere in the middle of the string, it returns none."
   ]
  },
  {
   "cell_type": "code",
   "execution_count": 1,
   "id": "eb553242",
   "metadata": {},
   "outputs": [
    {
     "name": "stdout",
     "output_type": "stream",
     "text": [
      "<re.Match object; span=(0, 5), match='India'>\n",
      "None\n"
     ]
    }
   ],
   "source": [
    "import re\n",
    "\n",
    "pattern = 'india'\n",
    "search=re.search(pattern, 'India is a country india', re.IGNORECASE)\n",
    "print(search)\n",
    "match=re.match(pattern, 'I live in India', re.IGNORECASE)\n",
    "print(match)"
   ]
  },
  {
   "cell_type": "markdown",
   "id": "bbbf1917",
   "metadata": {},
   "source": [
    "Ques7. What is the difference between using a vertical bar(|) as an alteration and using square brackets as a character set?"
   ]
  },
  {
   "cell_type": "markdown",
   "id": "29a51154",
   "metadata": {},
   "source": [
    "|- It helps to search one of two characters in a given string.\n",
    "\n",
    "[]- It helps to search any characters of the range in a given string"
   ]
  },
  {
   "cell_type": "markdown",
   "id": "87307f55",
   "metadata": {},
   "source": [
    "Ques8. In regular-expressio search patterns, why is it necessary to use the raw-string indicator(r)? In replacement strings?"
   ]
  },
  {
   "cell_type": "markdown",
   "id": "2e24102b",
   "metadata": {},
   "source": [
    "The issue with using a normal string to write regexes that contain a \\ is that you end up having to write \\ for every . raw-string gets especially useful if you want to write a regular expression that matches against backslashes."
   ]
  }
 ],
 "metadata": {
  "kernelspec": {
   "display_name": "Python 3",
   "language": "python",
   "name": "python3"
  },
  "language_info": {
   "codemirror_mode": {
    "name": "ipython",
    "version": 3
   },
   "file_extension": ".py",
   "mimetype": "text/x-python",
   "name": "python",
   "nbconvert_exporter": "python",
   "pygments_lexer": "ipython3",
   "version": "3.8.8"
  }
 },
 "nbformat": 4,
 "nbformat_minor": 5
}
