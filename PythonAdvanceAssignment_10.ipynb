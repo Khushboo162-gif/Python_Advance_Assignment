{
 "cells": [
  {
   "cell_type": "markdown",
   "id": "da222342",
   "metadata": {},
   "source": [
    "1. What is the difference between __ getattr __ and __ getattribute __ ?"
   ]
  },
  {
   "cell_type": "markdown",
   "id": "59d3d0ca",
   "metadata": {},
   "source": [
    "Python call getattr method whenever you request an attribute that hasn't already been defined.\n",
    "\n",
    "If you have getattribute method in your class, python invokes this method for every attribute regardless whether it exists or not."
   ]
  },
  {
   "cell_type": "markdown",
   "id": "608d6518",
   "metadata": {},
   "source": [
    "2. What is the difference between properties and descriptors?"
   ]
  },
  {
   "cell_type": "markdown",
   "id": "f6328578",
   "metadata": {},
   "source": [
    "Properties - We can bind getter, setter(and deleter) functions with an attribute name, using the built-in property function.\n",
    "\n",
    "Descriptors - We can binf getter, setter(and deleter) functions into a separate class. We than assign an object of this class to the attribute name."
   ]
  },
  {
   "cell_type": "markdown",
   "id": "2ea20bf1",
   "metadata": {},
   "source": [
    "3. What are the key differences in functionality between __ getattr __ and __ getattribute__ , as well as properties and descriptors?"
   ]
  },
  {
   "cell_type": "markdown",
   "id": "cab25a23",
   "metadata": {},
   "source": [
    "Python call getattr method whenever you request an attribute that hasn't already been defined.\n",
    "\n",
    "If you have getattribute method in your class, python invokes this method for every attribute regardless whether it exists or not.\n",
    "\n",
    "Properties - We can bind getter, setter(and deleter) functions with an attribute name, using the built-in property function.\n",
    "\n",
    "Descriptors - We can binf getter, setter(and deleter) functions into a separate class. We than assign an object of this class to the attribute name."
   ]
  }
 ],
 "metadata": {
  "kernelspec": {
   "display_name": "Python 3",
   "language": "python",
   "name": "python3"
  },
  "language_info": {
   "codemirror_mode": {
    "name": "ipython",
    "version": 3
   },
   "file_extension": ".py",
   "mimetype": "text/x-python",
   "name": "python",
   "nbconvert_exporter": "python",
   "pygments_lexer": "ipython3",
   "version": "3.8.8"
  }
 },
 "nbformat": 4,
 "nbformat_minor": 5
}
