{
 "cells": [
  {
   "cell_type": "markdown",
   "id": "a4146bf6",
   "metadata": {},
   "source": [
    "Ques1. Exlain the difference between greedy and non-greedy syntax with visual terms in as few words as possible. What is the bare minimum effort required to transform a greedy pattern into a non-greedy one? What characters or characters can you introduce or change?"
   ]
  },
  {
   "cell_type": "markdown",
   "id": "f25b86bf",
   "metadata": {},
   "source": [
    "Greedy mode tries to match the longest possible term first and non-greedy tries to match the shortest possible term first."
   ]
  },
  {
   "cell_type": "code",
   "execution_count": 1,
   "id": "e67fd2cb",
   "metadata": {},
   "outputs": [
    {
     "data": {
      "text/plain": [
       "'Mool Chand'"
      ]
     },
     "execution_count": 1,
     "metadata": {},
     "output_type": "execute_result"
    }
   ],
   "source": [
    "#non-greedy\n",
    "import re\n",
    "s='Mool Chand is a good human being. Mool Chand always pays tax. Mool Chand is learning Python.'\n",
    "pattern=re.compile('Mool Chand.*?')\n",
    "re.search(pattern,s).group()"
   ]
  },
  {
   "cell_type": "code",
   "execution_count": 2,
   "id": "f09162fd",
   "metadata": {},
   "outputs": [
    {
     "data": {
      "text/plain": [
       "'Mool Chand is a good human being. Mool Chand always pays tax. Mool Chand is learning Python.'"
      ]
     },
     "execution_count": 2,
     "metadata": {},
     "output_type": "execute_result"
    }
   ],
   "source": [
    "#greedy\n",
    "import re\n",
    "s='Mool Chand is a good human being. Mool Chand always pays tax. Mool Chand is learning Python.'\n",
    "pattern=re.compile('Mool Chand.*')\n",
    "re.search(pattern,s).group()"
   ]
  },
  {
   "cell_type": "markdown",
   "id": "56e02ea9",
   "metadata": {},
   "source": [
    "Ques2. When exactly does greedy versus non-greedy make a difference? What if you're looking for a non-greedy match but the only one available is greedy?"
   ]
  },
  {
   "cell_type": "markdown",
   "id": "dc3213dd",
   "metadata": {},
   "source": [
    "If pattern present more than one times then greedy vs non-greedy make a difference.\n",
    "\n",
    "We can use non-greedy syntax to get non-greedy match."
   ]
  },
  {
   "cell_type": "markdown",
   "id": "83168176",
   "metadata": {},
   "source": [
    "Ques3. In a simple match of a string, which looks only for one match and does not do any replacement, is the use of a nontagged group likely to make any practical difference?"
   ]
  },
  {
   "cell_type": "code",
   "execution_count": 3,
   "id": "0cd643a5",
   "metadata": {},
   "outputs": [
    {
     "name": "stdout",
     "output_type": "stream",
     "text": [
      "123\n",
      "123\n"
     ]
    }
   ],
   "source": [
    "import re\n",
    "s='my number is 123-456-789'\n",
    "pattern=re.compile('\\d\\d\\d')\n",
    "print(pattern.search(s).group())#non-tagged group\n",
    "print(pattern.search(s).group(0))"
   ]
  },
  {
   "cell_type": "markdown",
   "id": "dc4f3878",
   "metadata": {},
   "source": [
    "Ques4. Describe a senario in which using a nontagged category would have a significant impact on the program's outcomes."
   ]
  },
  {
   "cell_type": "code",
   "execution_count": 4,
   "id": "4d5d8434",
   "metadata": {},
   "outputs": [
    {
     "data": {
      "text/plain": [
       "('123', '456', '789')"
      ]
     },
     "execution_count": 4,
     "metadata": {},
     "output_type": "execute_result"
    }
   ],
   "source": [
    "import re\n",
    "text='123-456-789'\n",
    "pattern=r'(\\d+)(?:-)(\\d+)(?:-)(\\d+)'\n",
    "regobj=re.compile(pattern)\n",
    "matobj=regobj.search(text)\n",
    "matobj.groups()\n",
    "#  Here the '-' is not tagged or captured."
   ]
  },
  {
   "cell_type": "markdown",
   "id": "cd94cf7e",
   "metadata": {},
   "source": [
    "Ques5. Unlike a normal regex pattern, a look-ahead conditin does not consume the characters it examines. Describe a situation in which this could make a difference in the results of your programme."
   ]
  },
  {
   "cell_type": "markdown",
   "id": "0bf2182d",
   "metadata": {},
   "source": [
    "While counting the number of multiple lines or multiple sentence in a string the positive look ahead makes a difference, without which we wont get the correct count of lines or sentences in a string."
   ]
  },
  {
   "cell_type": "markdown",
   "id": "265d840f",
   "metadata": {},
   "source": [
    "Ques6. In standard expressions, what is the difference between positive look-ahead and negative look-ahead?"
   ]
  },
  {
   "cell_type": "markdown",
   "id": "1a578c3f",
   "metadata": {},
   "source": [
    "positive lookahead-It is to assure that the search string is followed by ."
   ]
  },
  {
   "cell_type": "code",
   "execution_count": 6,
   "id": "79c31002",
   "metadata": {},
   "outputs": [
    {
     "data": {
      "text/plain": [
       "'khushboo'"
      ]
     },
     "execution_count": 6,
     "metadata": {},
     "output_type": "execute_result"
    }
   ],
   "source": [
    "#positive lookahead\n",
    "\n",
    "import re\n",
    "s=re.search('khushboo(?=[a-z])','khushboogaur')\n",
    "s.group()"
   ]
  },
  {
   "cell_type": "code",
   "execution_count": 7,
   "id": "b23be393",
   "metadata": {},
   "outputs": [
    {
     "data": {
      "text/plain": [
       "'khushboo'"
      ]
     },
     "execution_count": 7,
     "metadata": {},
     "output_type": "execute_result"
    }
   ],
   "source": [
    "#negative lookahead\n",
    "\n",
    "import re\n",
    "s=re.search('khushboo(?![0-9])','khushboogaur')\n",
    "s.group()"
   ]
  },
  {
   "cell_type": "markdown",
   "id": "dcd2566e",
   "metadata": {},
   "source": [
    "Ques7. What is the benefit of referring to groups by name rather than by number in a standard expression?"
   ]
  },
  {
   "cell_type": "markdown",
   "id": "604b7b63",
   "metadata": {},
   "source": [
    "The benifit of referring to the groups by name is that\n",
    "\n",
    "1)The code is clear\n",
    "\n",
    "2)It is easier to maimtain the code."
   ]
  },
  {
   "cell_type": "markdown",
   "id": "c2ecda4d",
   "metadata": {},
   "source": [
    "Ques8. Can you identify repeated items withina target string using named groups, as in \"The cow jumped over the moon\"?"
   ]
  },
  {
   "cell_type": "code",
   "execution_count": 8,
   "id": "c85caead",
   "metadata": {},
   "outputs": [
    {
     "data": {
      "text/plain": [
       "['The', 'the']"
      ]
     },
     "execution_count": 8,
     "metadata": {},
     "output_type": "execute_result"
    }
   ],
   "source": [
    "import re\n",
    "text=\"The cow jumped over the moon\"\n",
    "pattern=re.compile('The',re.I)\n",
    "pattern.findall(text)"
   ]
  },
  {
   "cell_type": "markdown",
   "id": "078e3dff",
   "metadata": {},
   "source": [
    "Ques9. When parsing a string, what is at least one thing that the Scanner interface does for you that the re.findall feature does not?"
   ]
  },
  {
   "cell_type": "markdown",
   "id": "3079c5fb",
   "metadata": {},
   "source": [
    "re.search() method either returns None (if the pattern doesn’t match), or a re.MatchObject that contains information about the matching part of the string. This method stops after the first match, so this is best suited for testing a regular expression more than extracting data,whereas Return all non-overlapping matches of pattern in string, as a list of strings. The string is scanned left to right, and matches are returned in the order found."
   ]
  },
  {
   "cell_type": "markdown",
   "id": "7d24e388",
   "metadata": {},
   "source": [
    "Ques10. Does a scanner object have to be named scanner?"
   ]
  },
  {
   "cell_type": "markdown",
   "id": "40a8535d",
   "metadata": {},
   "source": [
    "The scanner object need not be named scanner. It may have any name."
   ]
  }
 ],
 "metadata": {
  "kernelspec": {
   "display_name": "Python 3",
   "language": "python",
   "name": "python3"
  },
  "language_info": {
   "codemirror_mode": {
    "name": "ipython",
    "version": 3
   },
   "file_extension": ".py",
   "mimetype": "text/x-python",
   "name": "python",
   "nbconvert_exporter": "python",
   "pygments_lexer": "ipython3",
   "version": "3.8.8"
  }
 },
 "nbformat": 4,
 "nbformat_minor": 5
}
