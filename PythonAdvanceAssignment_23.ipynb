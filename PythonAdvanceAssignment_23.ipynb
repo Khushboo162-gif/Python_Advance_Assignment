{
 "cells": [
  {
   "cell_type": "markdown",
   "id": "a020f7fe",
   "metadata": {},
   "source": [
    "Q1.If you have any, what are your choices for increasing the comparison between different figures on the same graph?\n",
    "\n",
    "Bar plot, line plot, scatter plot\n",
    "\n",
    "Q2.Can you explain the benefit of compound interest over a higher rate of interest that does not compound after reading this chapter?\n",
    "\n",
    "Compound interest makes your money grow faster because interest is calculated on the accumulated interest over time as well as on your original principal.\n",
    "\n",
    "Q3.What is a histogram, exactly? Name a numpy method for creating such a graph.\n",
    "\n",
    "A histogram is an approximate representation of the distribution of numerical data. numpy.histogram()\n",
    "\n",
    "Q4.If necessary, how do you change the aspect ratios between the X and Y axes?\n",
    "\n",
    "figure(figsize=(10,20))\n",
    "\n",
    "Q5.Compare and contrast the three types of array multiplication between two numpy arrays: dot product, outer product, and regular multiplication of two numpy arrays."
   ]
  },
  {
   "cell_type": "code",
   "execution_count": 1,
   "id": "41bb0a77",
   "metadata": {},
   "outputs": [],
   "source": [
    "import numpy as np\n",
    "a1=np.array([[1,2],[3,4]])\n",
    "a2=np.array([[4,5],[6,7]])"
   ]
  },
  {
   "cell_type": "code",
   "execution_count": 2,
   "id": "35bed100",
   "metadata": {},
   "outputs": [
    {
     "data": {
      "text/plain": [
       "array([[16, 19],\n",
       "       [36, 43]])"
      ]
     },
     "execution_count": 2,
     "metadata": {},
     "output_type": "execute_result"
    }
   ],
   "source": [
    "np.dot(a1,a2)"
   ]
  },
  {
   "cell_type": "code",
   "execution_count": 3,
   "id": "92d7114b",
   "metadata": {},
   "outputs": [
    {
     "data": {
      "text/plain": [
       "array([[ 4,  5,  6,  7],\n",
       "       [ 8, 10, 12, 14],\n",
       "       [12, 15, 18, 21],\n",
       "       [16, 20, 24, 28]])"
      ]
     },
     "execution_count": 3,
     "metadata": {},
     "output_type": "execute_result"
    }
   ],
   "source": [
    "np.outer(a1,a2)"
   ]
  },
  {
   "cell_type": "code",
   "execution_count": 4,
   "id": "9c41b134",
   "metadata": {},
   "outputs": [
    {
     "data": {
      "text/plain": [
       "array([[ 4, 10],\n",
       "       [18, 28]])"
      ]
     },
     "execution_count": 4,
     "metadata": {},
     "output_type": "execute_result"
    }
   ],
   "source": [
    "np.multiply(a1,a2)"
   ]
  },
  {
   "cell_type": "markdown",
   "id": "981b9d91",
   "metadata": {},
   "source": [
    "Q6.Before you buy a home, which numpy function will you use to measure your monthly mortgage payment?\n",
    "\n",
    "np.pmt(rate, nper, pv)\n",
    "\n",
    "rate = The periodic interest rate\n",
    "\n",
    "nper = The number of payment periods\n",
    "\n",
    "pv = The total value of the mortgage loan\n",
    "\n",
    "Q7.Can string data be stored in numpy arrays? If so, list at least one restriction that applies to this data.\n",
    "\n",
    "Yes it can be stored."
   ]
  },
  {
   "cell_type": "code",
   "execution_count": 5,
   "id": "e5660e33",
   "metadata": {},
   "outputs": [
    {
     "data": {
      "text/plain": [
       "array(['abc', 'def'], dtype='<U3')"
      ]
     },
     "execution_count": 5,
     "metadata": {},
     "output_type": "execute_result"
    }
   ],
   "source": [
    "a=np.array(['abc','def'])\n",
    "a"
   ]
  },
  {
   "cell_type": "code",
   "execution_count": 6,
   "id": "dc8c7ea4",
   "metadata": {},
   "outputs": [],
   "source": [
    "a[0]='ineuron'"
   ]
  },
  {
   "cell_type": "code",
   "execution_count": 7,
   "id": "807021cf",
   "metadata": {},
   "outputs": [
    {
     "data": {
      "text/plain": [
       "array(['ine', 'def'], dtype='<U3')"
      ]
     },
     "execution_count": 7,
     "metadata": {},
     "output_type": "execute_result"
    }
   ],
   "source": [
    "a"
   ]
  }
 ],
 "metadata": {
  "kernelspec": {
   "display_name": "Python 3",
   "language": "python",
   "name": "python3"
  },
  "language_info": {
   "codemirror_mode": {
    "name": "ipython",
    "version": 3
   },
   "file_extension": ".py",
   "mimetype": "text/x-python",
   "name": "python",
   "nbconvert_exporter": "python",
   "pygments_lexer": "ipython3",
   "version": "3.8.8"
  }
 },
 "nbformat": 4,
 "nbformat_minor": 5
}
