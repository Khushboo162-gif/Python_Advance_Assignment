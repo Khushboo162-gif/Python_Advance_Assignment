{
 "cells": [
  {
   "cell_type": "markdown",
   "id": "2af48e89",
   "metadata": {},
   "source": [
    "Ques1. Does assigning a value to a string's indexed character violate Python's string immutability?"
   ]
  },
  {
   "cell_type": "code",
   "execution_count": 1,
   "id": "f9836b01",
   "metadata": {},
   "outputs": [
    {
     "ename": "TypeError",
     "evalue": "'str' object does not support item assignment",
     "output_type": "error",
     "traceback": [
      "\u001b[1;31m---------------------------------------------------------------------------\u001b[0m",
      "\u001b[1;31mTypeError\u001b[0m                                 Traceback (most recent call last)",
      "\u001b[1;32m<ipython-input-1-37918bf7f188>\u001b[0m in \u001b[0;36m<module>\u001b[1;34m\u001b[0m\n\u001b[0;32m      1\u001b[0m \u001b[0ms\u001b[0m \u001b[1;33m=\u001b[0m \u001b[1;34m'ineuron'\u001b[0m\u001b[1;33m\u001b[0m\u001b[1;33m\u001b[0m\u001b[0m\n\u001b[1;32m----> 2\u001b[1;33m \u001b[0ms\u001b[0m\u001b[1;33m[\u001b[0m\u001b[1;36m1\u001b[0m\u001b[1;33m]\u001b[0m \u001b[1;33m=\u001b[0m\u001b[1;34m'z'\u001b[0m\u001b[1;33m\u001b[0m\u001b[1;33m\u001b[0m\u001b[0m\n\u001b[0m",
      "\u001b[1;31mTypeError\u001b[0m: 'str' object does not support item assignment"
     ]
    }
   ],
   "source": [
    "s = 'ineuron'\n",
    "s[1] ='z'"
   ]
  },
  {
   "cell_type": "markdown",
   "id": "db91adaf",
   "metadata": {},
   "source": [
    "yes it violates python's string immutability."
   ]
  },
  {
   "cell_type": "markdown",
   "id": "418c9142",
   "metadata": {},
   "source": [
    "Ques2. Does using the += operator to conatenate strings violate Python's string immtability? Why or why not?"
   ]
  },
  {
   "cell_type": "code",
   "execution_count": 3,
   "id": "9e39f1ab",
   "metadata": {},
   "outputs": [
    {
     "data": {
      "text/plain": [
       "'ineuronml'"
      ]
     },
     "execution_count": 3,
     "metadata": {},
     "output_type": "execute_result"
    }
   ],
   "source": [
    "s = 'ineuron'\n",
    "s+='ml'\n",
    "s"
   ]
  },
  {
   "cell_type": "markdown",
   "id": "8f9ff453",
   "metadata": {},
   "source": [
    "Here we are concatenating two strings not assigning any value to a indexed character. It does not violate python's string immutability."
   ]
  },
  {
   "cell_type": "markdown",
   "id": "552f6ab9",
   "metadata": {},
   "source": [
    "Ques3. In python, how many different ways are there to index a character?"
   ]
  },
  {
   "cell_type": "markdown",
   "id": "fa105e7e",
   "metadata": {},
   "source": [
    "Ther are two methods index() and find() both will return lowest index a which character is found."
   ]
  },
  {
   "cell_type": "markdown",
   "id": "7fbeb4e0",
   "metadata": {},
   "source": [
    "Ques4. What is the relationship between indexing and slicing?"
   ]
  },
  {
   "cell_type": "markdown",
   "id": "c873acf2",
   "metadata": {},
   "source": [
    "slicing is done by using index."
   ]
  },
  {
   "cell_type": "markdown",
   "id": "cd94bd5e",
   "metadata": {},
   "source": [
    "Ques5. What is an indexed character's exact data type? What is the data form of a slicing-generated substring?"
   ]
  },
  {
   "cell_type": "markdown",
   "id": "75a977b1",
   "metadata": {},
   "source": [
    "For both data type is string."
   ]
  },
  {
   "cell_type": "markdown",
   "id": "6b7f7d79",
   "metadata": {},
   "source": [
    "Ques6. What is the relationship between string and character \"types\" in Python?"
   ]
  },
  {
   "cell_type": "markdown",
   "id": "9282e38b",
   "metadata": {},
   "source": [
    "There is no char data type in python even a single character enclosed in quote is considered as string."
   ]
  },
  {
   "cell_type": "markdown",
   "id": "93ffdbfa",
   "metadata": {},
   "source": [
    "Ques7. Identify at least two operators and one method that allow you to combine ane or more smaller strings to create a larger string."
   ]
  },
  {
   "cell_type": "code",
   "execution_count": 5,
   "id": "94e6fc89",
   "metadata": {},
   "outputs": [],
   "source": [
    "s1 ='ineuron'\n",
    "s2 = 'ai'\n",
    "s3 = 'ml'"
   ]
  },
  {
   "cell_type": "code",
   "execution_count": 6,
   "id": "f7d66642",
   "metadata": {},
   "outputs": [
    {
     "data": {
      "text/plain": [
       "'ineuronaiml'"
      ]
     },
     "execution_count": 6,
     "metadata": {},
     "output_type": "execute_result"
    }
   ],
   "source": [
    "s1+s2+s3"
   ]
  },
  {
   "cell_type": "code",
   "execution_count": 8,
   "id": "7d831290",
   "metadata": {},
   "outputs": [
    {
     "data": {
      "text/plain": [
       "'ineuronaiml'"
      ]
     },
     "execution_count": 8,
     "metadata": {},
     "output_type": "execute_result"
    }
   ],
   "source": [
    "s = '%s%s%s'%(s1,s2,s3)\n",
    "s"
   ]
  },
  {
   "cell_type": "code",
   "execution_count": 11,
   "id": "ceca2be2",
   "metadata": {},
   "outputs": [
    {
     "data": {
      "text/plain": [
       "'ineuronaiml'"
      ]
     },
     "execution_count": 11,
     "metadata": {},
     "output_type": "execute_result"
    }
   ],
   "source": [
    "''.join([s1,s2,s3])"
   ]
  },
  {
   "cell_type": "markdown",
   "id": "52a6a59b",
   "metadata": {},
   "source": [
    "Ques8. What is the benefit of checking the target string in or not in before using the index method to find a substring?"
   ]
  },
  {
   "cell_type": "markdown",
   "id": "a4f7e5bd",
   "metadata": {},
   "source": [
    "If the substring is not present in the string than index method will throw value error."
   ]
  },
  {
   "cell_type": "markdown",
   "id": "387d2e8b",
   "metadata": {},
   "source": [
    "Ques9. Which operators and built-in string methods produce simple Boolean (true/false) results?"
   ]
  },
  {
   "cell_type": "markdown",
   "id": "1ffc54a8",
   "metadata": {},
   "source": [
    "'==','>','<','>=','<=','!=' and 'isalpha','isdigit','isdecimal','islower','isupper','isnumeric','istitle','endswidth','isidentifier','isspace'."
   ]
  }
 ],
 "metadata": {
  "kernelspec": {
   "display_name": "Python 3",
   "language": "python",
   "name": "python3"
  },
  "language_info": {
   "codemirror_mode": {
    "name": "ipython",
    "version": 3
   },
   "file_extension": ".py",
   "mimetype": "text/x-python",
   "name": "python",
   "nbconvert_exporter": "python",
   "pygments_lexer": "ipython3",
   "version": "3.8.8"
  }
 },
 "nbformat": 4,
 "nbformat_minor": 5
}
