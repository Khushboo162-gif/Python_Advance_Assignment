{
 "cells": [
  {
   "cell_type": "markdown",
   "id": "5ac70c7a",
   "metadata": {},
   "source": [
    "Ques1. Describe three applications for exception processing."
   ]
  },
  {
   "cell_type": "markdown",
   "id": "69f5d885",
   "metadata": {},
   "source": [
    "Exception can be handled during run time error not compile time error."
   ]
  },
  {
   "cell_type": "code",
   "execution_count": 2,
   "id": "bfd8088c",
   "metadata": {},
   "outputs": [
    {
     "name": "stdout",
     "output_type": "stream",
     "text": [
      "Enter number 1:5.0\n",
      "Enter number 2:0\n",
      "float division by zero\n"
     ]
    }
   ],
   "source": [
    "try:\n",
    "    a = float(input('Enter number 1:'))\n",
    "    b = float(input('Enter number 2:'))\n",
    "    print('Result:',a/b)\n",
    "except Exception as e:\n",
    "    print(e)"
   ]
  },
  {
   "cell_type": "code",
   "execution_count": 3,
   "id": "4a5a1505",
   "metadata": {},
   "outputs": [
    {
     "name": "stdout",
     "output_type": "stream",
     "text": [
      "[Errno 2] No such file or directory: 'myfile.txt'\n"
     ]
    }
   ],
   "source": [
    "try:\n",
    "    with open('myfile.txt','r') as f:\n",
    "        print(f.read())\n",
    "except Exception as e:\n",
    "    print(e)"
   ]
  },
  {
   "cell_type": "code",
   "execution_count": 4,
   "id": "afad0e1f",
   "metadata": {},
   "outputs": [
    {
     "name": "stdout",
     "output_type": "stream",
     "text": [
      "can only concatenate str (not \"int\") to str\n"
     ]
    }
   ],
   "source": [
    "try: \n",
    "    a = 'ineuron'\n",
    "    b = 2022\n",
    "    print(a+b)\n",
    "except Exception as e:\n",
    "    print(e)"
   ]
  },
  {
   "cell_type": "markdown",
   "id": "6d2d86c0",
   "metadata": {},
   "source": [
    "Ques2. What happens if you don't do something extra to treat an exception?"
   ]
  },
  {
   "cell_type": "markdown",
   "id": "1cf669d7",
   "metadata": {},
   "source": [
    "If we don't handle exception, exception will cause the interpreter to halt the execution of the code."
   ]
  },
  {
   "cell_type": "markdown",
   "id": "4678fdc9",
   "metadata": {},
   "source": [
    "Ques3. What are your options for recovering from an exception in your script?"
   ]
  },
  {
   "cell_type": "markdown",
   "id": "98666849",
   "metadata": {},
   "source": [
    "We use try-except block, in except block we write the action if exception occurs."
   ]
  },
  {
   "cell_type": "markdown",
   "id": "bcd00a0f",
   "metadata": {},
   "source": [
    "Ques4. Describe two methods for triggering exception in you script?"
   ]
  },
  {
   "cell_type": "markdown",
   "id": "80de7501",
   "metadata": {},
   "source": [
    "We use try and raise."
   ]
  },
  {
   "cell_type": "code",
   "execution_count": 5,
   "id": "c42abe15",
   "metadata": {},
   "outputs": [
    {
     "name": "stdout",
     "output_type": "stream",
     "text": [
      "It is name error\n"
     ]
    }
   ],
   "source": [
    "try:\n",
    "    raise NameError('It is name error')\n",
    "except Exception as e:\n",
    "    print(e)"
   ]
  },
  {
   "cell_type": "markdown",
   "id": "509e54f8",
   "metadata": {},
   "source": [
    "Ques5. Identify two metjods for specifying actions to be executed at termination time, regardless of whether or not an exception exists."
   ]
  },
  {
   "cell_type": "markdown",
   "id": "85262baa",
   "metadata": {},
   "source": [
    "else-if excption does not exist.\n",
    "\n",
    "finally-regardless whether or not an exception exists."
   ]
  },
  {
   "cell_type": "code",
   "execution_count": 7,
   "id": "4482c632",
   "metadata": {},
   "outputs": [
    {
     "name": "stdout",
     "output_type": "stream",
     "text": [
      "Enter number 1:5\n",
      "Enter number 2:10\n",
      "Result: 0.5\n",
      "It is else\n"
     ]
    }
   ],
   "source": [
    "try:\n",
    "    a = float(input('Enter number 1:'))\n",
    "    b = float(input('Enter number 2:'))\n",
    "    print('Result:',a/b)\n",
    "except Exception as e:\n",
    "    print(e)\n",
    "else:\n",
    "    print('It is else')"
   ]
  },
  {
   "cell_type": "code",
   "execution_count": 9,
   "id": "4f01a6bf",
   "metadata": {},
   "outputs": [
    {
     "name": "stdout",
     "output_type": "stream",
     "text": [
      "Enter number 1:7\n",
      "Enter number 2:0\n",
      "float division by zero\n",
      "It is final\n"
     ]
    }
   ],
   "source": [
    "try:\n",
    "    a = float(input('Enter number 1:'))\n",
    "    b = float(input('Enter number 2:'))\n",
    "    print('Result:',a/b)\n",
    "except Exception as e:\n",
    "    print(e)\n",
    "finally:\n",
    "    print('It is final')"
   ]
  },
  {
   "cell_type": "code",
   "execution_count": null,
   "id": "b6f83c65",
   "metadata": {},
   "outputs": [],
   "source": []
  }
 ],
 "metadata": {
  "kernelspec": {
   "display_name": "Python 3",
   "language": "python",
   "name": "python3"
  },
  "language_info": {
   "codemirror_mode": {
    "name": "ipython",
    "version": 3
   },
   "file_extension": ".py",
   "mimetype": "text/x-python",
   "name": "python",
   "nbconvert_exporter": "python",
   "pygments_lexer": "ipython3",
   "version": "3.8.8"
  }
 },
 "nbformat": 4,
 "nbformat_minor": 5
}
